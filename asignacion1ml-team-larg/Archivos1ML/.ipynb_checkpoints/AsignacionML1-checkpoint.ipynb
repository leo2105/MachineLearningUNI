{
 "cells": [
  {
   "cell_type": "markdown",
   "metadata": {},
   "source": [
    "# Asignación 1\n",
    "\n",
    "Todos los asignaciones serán presentadas utilizando los cuadernos de [Jupyter Notebook](http://jupyter.org/), además de respectivas pruebas como ejemplo, así como el uso de mediciones de velocidad de ejecución utilizando  el comando `timeit` y algunos gráficos si fuese necesario.\n",
    "\n",
    "Las referencias a los ejercicios son :\n",
    "\n",
    "* David Barber, [Bayesian Reasoning and Machine Learning](http://web4.cs.ucl.ac.uk/staff/D.Barber/pmwiki/pmwiki.php?n=Brml.Online),  Cambridge University Press, 2017.\n",
    "\n",
    "* Pattern Recognition and Machine Learning de Chris Bishop 2006.\n",
    "\n",
    "* Machine Learning Refined, Watt, Borhani, Katsaggelos 2016."
   ]
  },
  {
   "cell_type": "markdown",
   "metadata": {
    "collapsed": true
   },
   "source": [
    "## Lista de ejercicios"
   ]
  },
  {
   "cell_type": "markdown",
   "metadata": {},
   "source": [
    "**1 . Imaginemos  que tenemos dos posibilidades: podemos escanear y enviar por correo electrónico una imagen, o podemos usar un lector óptico de caracteres (OCR) y enviar el archivo de texto. Discute las ventaja y las desventajas de los dos enfoques de manera comparativa. ¿Cuándo uno sería preferible al otro?.**"
   ]
  },
  {
   "cell_type": "markdown",
   "metadata": {
    "collapsed": true
   },
   "source": [
    "### Tu respuesta\n",
    "Enviar una imagen por correo electronico pesa mas que enviar un archivo de texto. Usualmente la imagen pesa MB de informacion, en cambio un archivo de texto pesa KB.\n",
    "\n",
    "En ciertos casos en que se requiera ver la foto con urgencia o no conozcamos un decifrador de OCR, o quizas se tengo capacidad suficiente para enviar imagenes, se puede optar por la primera opcion.\n",
    "\n",
    "Ademas, un lector optico de caracteres puede proporcionar mucho ruido al momento de procesar la imagen debido a su resolucion de dicho aparato y tambien el dispositivo puede producir escala de grises que afecten a la imagen original."
   ]
  },
  {
   "cell_type": "markdown",
   "metadata": {},
   "source": [
    "**2 .Digamos que estamos construyendo un OCR y para cada carácter, almacenamos el mapa de bits de ese carácter como una plantilla que coincida con el carácter de lectura píxel a píxel. Explica cuándo fallaría un sistema de este tipo. ¿Por qué se siguen utilizando los lectores de códigos de barras?**"
   ]
  },
  {
   "cell_type": "markdown",
   "metadata": {
    "collapsed": true
   },
   "source": [
    "### Tu respuesta\n",
    "El OCR actualmente aún posee algunas dificultades para realizar el reconocimiento de carácteres de manera explícita, ya que este podría funcionar en la mayoría de casos pero no siempre, El porcentaje de recuperación del contenido textual de una imagen puede estar limitado a aspectos como el tipo, tamaño o color de la letra, “ruido” del documento (manchas, contraste, mezcla de caracteres entre sí o con otros objetos gráficos), segmentación de diversas unidades de texto, palabras que se encuentran muy juntas, etc. Sin embargo los códigos de barras te permiten identificar rapidamente una determinada información a partir de combinaciones de líneas y espacios paralelos de distinto grosor y espaciado."
   ]
  },
  {
   "cell_type": "markdown",
   "metadata": {},
   "source": [
    "**3 . Supongamos que se nos da la tarea de construir un sistema para distinguir correo basura. ¿Qué hay en un correo basura que nos permite saber que es basura? ¿Cómo puede la computadora detectar la basura mediante un análisis sintáctico? ¿Qué nos gustaría que hiciera la computadora si detecta un correo electrónico no deseado: eliminarlo automáticamente, moverlo a un archivo diferente o simplemente resaltarlo en la pantalla?**"
   ]
  },
  {
   "cell_type": "markdown",
   "metadata": {
    "collapsed": true
   },
   "source": [
    "### Tu respuesta\n",
    "¿Qué hay en un correo basura que nos permite saber que es basura?\n",
    "* Contiene vínculos falsos.\n",
    "* La dirección del remitente sea de una compañía de servicios.\n",
    "* Solicitud de una contraseña o información.\n",
    "* El emisor le pide repetidamente información personal o secreta.\n",
    "\n",
    "¿Cómo puede la computadora detectar la basura mediante un análisis sintáctico?\n",
    "Los mails falsos a menudo contienen errores fácilmente detectables, como gramaticales o de ortografía, o errores en los nombres oficiales y de marca, que suelen estar mal usados.\n",
    "\n",
    "¿Qué nos gustaría que hiciera la computadora si detecta un correo electrónico no deseado: eliminarlo automáticamente, moverlo a un archivo diferente o simplemente resaltarlo en la pantalla?\n",
    "Mediante una apreciación personal: eliminarlo automáticamente sería un error puesto que solo se queda en el reconocimiento del correo basura y su eliminación, lo que habitalmente se estila como los servicios de correo gmail que loa hace de una forma eficiente. Puesto que se etiqueta al correo como un correo no deseado y los separa de los demás, más no se elimina, el mismo usuario debería ser el encargado de poder hacerlo. Ya que podría haber errores de identificación de correos que si son confiables, a su vez etiquetarlos nos ayuda a poder conocer cuales son esa correos no deseados para estar prevenidos."
   ]
  },
  {
   "cell_type": "markdown",
   "metadata": {},
   "source": [
    "**4 .Digamos que se nos da la tarea de construir un taxi automatizado. Define las restricciones. ¿Cuáles son las entradas? ¿Cuál es la salida? ¿Cómo podemos comunicarnos con el pasajero? ¿Necesitamos comunicarnos con los otros taxis automatizados, es decir, necesitamos un \"lenguaje\"?**"
   ]
  },
  {
   "cell_type": "markdown",
   "metadata": {
    "collapsed": true
   },
   "source": [
    "### Tu respuesta\n",
    "\n",
    "En el caso de la construcción de un taxi automatizado se tiene que tener en consideración lo sgte. :\n",
    "\n",
    "* Entradas :\n",
    "\n",
    "> Archivos binarios de las imágenes que capta la cámara del taxi automatizado. Con estas imágenes podemos usar algoritmos de machine learning usados para self-driving.\n",
    "\n",
    "\n",
    "\n",
    "> Información del pasajero (ubicación de origen y destino, tarjeta de credito-debito), tipo de servicio( pool, black, premium)\n",
    "\n",
    " \n",
    "\n",
    "\n",
    "* Salidas : \n",
    "\n",
    "> Costo del viaje respecto a la distancia de viaje.\n",
    "\n",
    "\n",
    "> Orden a los motores para que pare el taxi, avance, voltee a la derecha, voltee a la izquierda, acelere, desacelere.\n",
    "\n",
    " \n",
    "\n",
    "* Como podemos comunicarnos con el pasajero :\n",
    "\n",
    "> Mediante texto que se muestra en una pantalla dentro del taxi automatizado.\n",
    "\n",
    "\n",
    "> Mediante software que es un asistente personal.\n",
    "\n",
    "\n",
    "* Necesitamos un \"Lenguaje\"\n",
    "\n",
    "> Para que el taxi automatizado se comunique con el pasajero si necesitamos de un \"lenguaje\". Puede comunicarse de distintas formas pero para lograr el lenguaje más cercano a lo humano necesitamos desarrollar un software con la implementación de procesamiento de lenguaje natural.\n",
    "\n",
    "\n",
    "\n",
    "\n",
    "\n"
   ]
  },
  {
   "cell_type": "markdown",
   "metadata": {},
   "source": [
    "**5 .En el análisis de la cesta  de la compra, queremos encontrar la dependencia entre dos elementos X e Y. Dada una base de datos de transacciones de clientes, ¿cómo podemos encontrar estas dependencias? ¿Cómo generalizaríamos esto a más de dos ítems?**"
   ]
  },
  {
   "cell_type": "markdown",
   "metadata": {},
   "source": [
    "El grado de dependencia entre dos elementos X e Y se puede calcular con el coeficiente de correlacion lineal o coeficiente de correlacion de pearson.\n",
    "\n",
    "donde coef : $$r_{xy} = \\frac{\\Sigma{x_{i}y_{i}} - n\\bar{x}\\bar{y}}{(n-1)s_{x}s_{y}} = \\frac{n\\Sigma{x_{i}y_{i}} - \\Sigma{x_{i}} \\Sigma{y_{i}}}{ \\sqrt{n\\Sigma{x_{i}^{2}} - (\\Sigma{x_{i}})^{2}} \\sqrt{n\\Sigma{y_{i}^{2}} - (\\Sigma{y_{i}})^{2}} }    $$\n",
    "\n",
    "Si coef > 0: Dependencia directa \n",
    "\n",
    "Si coef < 0: Dependencia inversa \n",
    "\n",
    "Si coef = 0: No existe relacion lineal\n",
    "\n",
    "\n",
    "\n",
    "Para dos o mas elementos podemos realizar el mismo proceso de dos en dos rellenando la matriz de correlacion."
   ]
  },
  {
   "cell_type": "markdown",
   "metadata": {},
   "source": [
    "**6 .En un periódico , encuentra cinco ejemplos de noticias para cada categoría de política, deportes y artes. Revisa estos informes y encuentra las palabras que se usan frecuentemente para cada categoría, lo que te puede ayudarle a discriminar entre diferentes categorías.**\n",
    "\n",
    "Por ejemplo, es probable que un reportaje sobre política incluya palabras como *gobierno*, *recesión*, *congreso*, etc., mientras que un reportaje sobre las artes puede incluir *álbum*, *lienzo* o *teatro* . También hay palabras como *meta* que son ambiguas."
   ]
  },
  {
   "cell_type": "code",
   "execution_count": 35,
   "metadata": {
    "collapsed": false
   },
   "outputs": [
    {
     "name": "stdout",
     "output_type": "stream",
     "text": [
      "(3, 'popular')\n",
      "(3, 'comisión')\n",
      "(2, 'referéndum')\n",
      "(2, 'presidente')\n",
      "(2, 'partido')\n",
      "(2, 'izquierda')\n",
      "(2, 'iniciativa')\n",
      "(2, 'hasta')\n",
      "(2, 'grupo')\n",
      "(2, 'centro')\n"
     ]
    },
    {
     "name": "stderr",
     "output_type": "stream",
     "text": [
      "/home/geckolml/anaconda3/lib/python3.6/site-packages/bs4/__init__.py:181: UserWarning: No parser was explicitly specified, so I'm using the best available HTML parser for this system (\"lxml\"). This usually isn't a problem, but if you run this code on another system, or in a different virtual environment, it may use a different parser and behave differently.\n",
      "\n",
      "The code that caused this warning is on line 193 of the file /home/geckolml/anaconda3/lib/python3.6/runpy.py. To get rid of this warning, change code that looks like this:\n",
      "\n",
      " BeautifulSoup(YOUR_MARKUP})\n",
      "\n",
      "to this:\n",
      "\n",
      " BeautifulSoup(YOUR_MARKUP, \"lxml\")\n",
      "\n",
      "  markup_type=markup_type))\n"
     ]
    }
   ],
   "source": [
    "# Noticias Politica\n",
    "import bs4\n",
    "import re\n",
    "import urllib\n",
    "import urllib.request\n",
    "\n",
    "webpage=\"https://elpais.com/tag/politica/a\"\n",
    "textWeb=\"\"\n",
    "\n",
    "with urllib.request.urlopen(webpage) as url:  \n",
    "    s = url.read()\n",
    "\n",
    "soup = bs4.BeautifulSoup(s)\n",
    "\n",
    "for i in range(len(soup.select('p'))):\n",
    "    textWeb += soup.select('p')[i].getText().lower()\n",
    "\n",
    "wordList=re.findall(r'\\w+', textWeb)\n",
    "wordFreq=[]\n",
    "for w in wordList:\n",
    "    wordFreq.append(wordList.count(w))\n",
    "\n",
    "d=dict(zip(wordList,wordFreq))\n",
    "\n",
    "aux = [(d[k], k) for k in d] # programacion funcional\n",
    "aux.sort() # Ordenar\n",
    "aux.reverse() # de Mayor a Menor\n",
    "for i in aux: \n",
    "    if(len(i[1])>3 and i[0]>1):\n",
    "        print(i)"
   ]
  },
  {
   "cell_type": "code",
   "execution_count": 36,
   "metadata": {
    "collapsed": false
   },
   "outputs": [
    {
     "name": "stdout",
     "output_type": "stream",
     "text": [
      "(3, 'veces')\n",
      "(3, 'para')\n",
      "(3, 'equipo')\n",
      "(3, 'conjunto')\n",
      "(2, 'trabajo')\n",
      "(2, 'rival')\n",
      "(2, 'puntos')\n",
      "(2, 'partido')\n",
      "(2, 'mundial')\n",
      "(2, 'madrid')\n",
      "(2, 'juego')\n",
      "(2, 'fuera')\n",
      "(2, 'delantero')\n",
      "(2, 'decide')\n",
      "(2, 'casa')\n",
      "(2, 'blancos')\n",
      "(2, 'años')\n",
      "(2, 'atlético')\n",
      "(2, 'ante')\n"
     ]
    },
    {
     "name": "stderr",
     "output_type": "stream",
     "text": [
      "/home/geckolml/anaconda3/lib/python3.6/site-packages/bs4/__init__.py:181: UserWarning: No parser was explicitly specified, so I'm using the best available HTML parser for this system (\"lxml\"). This usually isn't a problem, but if you run this code on another system, or in a different virtual environment, it may use a different parser and behave differently.\n",
      "\n",
      "The code that caused this warning is on line 193 of the file /home/geckolml/anaconda3/lib/python3.6/runpy.py. To get rid of this warning, change code that looks like this:\n",
      "\n",
      " BeautifulSoup(YOUR_MARKUP})\n",
      "\n",
      "to this:\n",
      "\n",
      " BeautifulSoup(YOUR_MARKUP, \"lxml\")\n",
      "\n",
      "  markup_type=markup_type))\n"
     ]
    }
   ],
   "source": [
    "# Noticias Deportes\n",
    "import bs4\n",
    "import re\n",
    "import urllib\n",
    "import urllib.request\n",
    "\n",
    "\n",
    "webpage=\"https://elpais.com/tag/c/8a04e14f346d7e93abdc29d951c9484a\"\n",
    "textWeb=\"\"\n",
    "\n",
    "with urllib.request.urlopen(webpage) as url:  \n",
    "    s = url.read()\n",
    "\n",
    "soup = bs4.BeautifulSoup(s)\n",
    "\n",
    "for i in range(len(soup.select('p'))):\n",
    "    textWeb += soup.select('p')[i].getText().lower()\n",
    "\n",
    "wordList=re.findall(r'\\w+', textWeb)\n",
    "wordFreq=[]\n",
    "for w in wordList:\n",
    "    wordFreq.append(wordList.count(w))\n",
    "\n",
    "d=dict(zip(wordList,wordFreq))\n",
    "\n",
    "aux = [(d[k], k) for k in d] # programacion funcional\n",
    "aux.sort() # Ordenar\n",
    "aux.reverse() # de Mayor a Menor\n",
    "for i in aux: \n",
    "    if(len(i[1])>3 and i[0]>1):\n",
    "        print(i)"
   ]
  },
  {
   "cell_type": "code",
   "execution_count": 37,
   "metadata": {
    "collapsed": false
   },
   "outputs": [
    {
     "name": "stderr",
     "output_type": "stream",
     "text": [
      "/home/geckolml/anaconda3/lib/python3.6/site-packages/bs4/__init__.py:181: UserWarning: No parser was explicitly specified, so I'm using the best available HTML parser for this system (\"lxml\"). This usually isn't a problem, but if you run this code on another system, or in a different virtual environment, it may use a different parser and behave differently.\n",
      "\n",
      "The code that caused this warning is on line 193 of the file /home/geckolml/anaconda3/lib/python3.6/runpy.py. To get rid of this warning, change code that looks like this:\n",
      "\n",
      " BeautifulSoup(YOUR_MARKUP})\n",
      "\n",
      "to this:\n",
      "\n",
      " BeautifulSoup(YOUR_MARKUP, \"lxml\")\n",
      "\n",
      "  markup_type=markup_type))\n"
     ]
    },
    {
     "name": "stdout",
     "output_type": "stream",
     "text": [
      "(4, 'exposición')\n",
      "(4, 'desde')\n",
      "(3, 'sobre')\n",
      "(3, 'primera')\n",
      "(3, 'para')\n",
      "(3, 'expone')\n",
      "(3, 'casas')\n",
      "(3, 'artista')\n",
      "(3, 'arte')\n",
      "(2, 'unidos')\n",
      "(2, 'próximo')\n",
      "(2, 'pintor')\n",
      "(2, 'piezas')\n",
      "(2, 'obras')\n",
      "(2, 'nuevos')\n",
      "(2, 'modelo')\n",
      "(2, 'metros')\n",
      "(2, 'madrid')\n",
      "(2, 'imágenes')\n",
      "(2, 'grupo')\n",
      "(2, 'franquista')\n",
      "(2, 'está')\n",
      "(2, 'estados')\n",
      "(2, 'espacios')\n",
      "(2, 'entre')\n",
      "(2, 'ellas')\n",
      "(2, 'edificio')\n",
      "(2, 'dictador')\n",
      "(2, 'dice')\n",
      "(2, 'centro')\n",
      "(2, 'arquitectura')\n",
      "(2, 'ambos')\n",
      "(2, 'acoge')\n",
      "(2, 'abre')\n"
     ]
    }
   ],
   "source": [
    "# Noticias Artes\n",
    "import bs4\n",
    "import re\n",
    "import urllib\n",
    "import urllib.request\n",
    "\n",
    "webpage=\"https://elpais.com/tag/arte/a\"\n",
    "textWeb=\"\"\n",
    "\n",
    "with urllib.request.urlopen(webpage) as url:  \n",
    "    s = url.read()\n",
    "\n",
    "soup = bs4.BeautifulSoup(s)\n",
    "\n",
    "for i in range(len(soup.select('p'))):\n",
    "    textWeb += soup.select('p')[i].getText().lower()\n",
    "\n",
    "wordList=re.findall(r'\\w+', textWeb)\n",
    "wordFreq=[]\n",
    "for w in wordList:\n",
    "    wordFreq.append(wordList.count(w))\n",
    "\n",
    "d=dict(zip(wordList,wordFreq))\n",
    "\n",
    "aux = [(d[k], k) for k in d] # programacion funcional\n",
    "aux.sort() # Ordenar\n",
    "aux.reverse() # de Mayor a Menor\n",
    "for i in aux: \n",
    "    if(len(i[1])>3 and i[0]>1):\n",
    "        print(i)"
   ]
  },
  {
   "cell_type": "markdown",
   "metadata": {},
   "source": [
    "**7 . Sea  una imagen de rostro es una imagen 100 x 100, o un vector de 10.000 dimensiones. Si cambiamos la imagen de un píxel a la derecha, este será un vector muy diferente en el espacio de 10.000 dimensiones. ¿Cómo podemos construir reconocedores faciales que manejen a tales distorsiones?**"
   ]
  },
  {
   "cell_type": "markdown",
   "metadata": {
    "collapsed": true
   },
   "source": [
    "### Tu respuesta\n",
    "Existen técnicas para poder tratar imágenes con distorsiones, de las cuales basandose en conceptos matemáticos resuelven este problema, por ejemplo el descriptor de imágenes SIFT(Scale Invariant Feature) usa un procedimiento que tiene la ventaja de ser invariante a las posibles distorsiones debidas a la rotación, translación y escala de la imágen. Este método plantea la detección de puntos de interés dentro de una matriz de representación de un objeto en el cual y a través de la sumatoria de las intensidades de los distintos gradientes se obtengan al aplicar el  proceso de diferencias Gaussianas a una pirámide también conocida como pirámide Gaussiana.\n",
    "\n",
    "La pirámide Gaussiana es construida a partir de una imagen de muestra de entrada  y mediante muestras suavizadas constantes de esta imagen se van realizando submuestreos de las mismas, mientras que las diferencias Gaussianas corresponden  a las diferencias entre los niveles adyacentes de la pirámide. De esta manera los puntos de interés se obtienen a partir de los puntos en los que los valores de la diferencia Gaussiana asumen extremos con respecto tanto a las coordenadas espaciales en el dominio de la imagen y el nivel de escala en la pirámide."
   ]
  },
  {
   "cell_type": "markdown",
   "metadata": {},
   "source": [
    "**8 . Tomemos, por ejemplo, la palabra \"máquina\". Escríbela diez veces. También pide a un amigo de tu equipo que escriba la palabra  diez veces. Analizando estas veinte imágenes, trata de encontrar características, tipos de trazos, curvaturas, bucles, cómo hacer los puntos y así sucesivamente, que discriminan su escritura a mano de la de su amigo.**"
   ]
  },
  {
   "cell_type": "markdown",
   "metadata": {},
   "source": [
    "### Tu respuesta\n",
    "\n",
    "Hicimos el experimento con un compañero teniendo las sgtes imágenes.\n",
    "\n",
    "\n",
    "![](images/gerson.jpg)\n",
    "\n",
    "![](images/renzo.jpg)"
   ]
  },
  {
   "cell_type": "markdown",
   "metadata": {
    "collapsed": true
   },
   "source": [
    "* La primera caraterística que descrimina la escritura de mi amigo y la mia es que mi letra es imprenta y la de mi amigo es de forma seguida.\n",
    "* La segunda característica es que la letra a de mi amigo posee mas curvatura es decir mas redonda que la mia.\n",
    "* La palabra escrita de mi amigo es cursiva en contraste con la mia que fue recta.\n",
    "* Las letras de la palabra de mi compañero son mas estiradas que la mia.\n",
    "* Las curvaturas de las letras a excepción de la `a` de las palabras de mi amigo son menos pronunciadas a la diferencia de la mia. "
   ]
  },
  {
   "cell_type": "markdown",
   "metadata": {},
   "source": [
    "**9 .Al estimar el precio de un automóvil usado, tiene más sentido estimar el porcentaje de depreciación sobre el precio original que estimar el precio absoluto. ¿Por qué?**"
   ]
  },
  {
   "cell_type": "markdown",
   "metadata": {
    "collapsed": true
   },
   "source": [
    "### Tu respuesta\n",
    "\n",
    "Si analizamos el porcentaje de depreciación sobre el precio original : \n",
    "> ( (precioOriginal - precioActual)/precioOriginal)*100%\n",
    "\n",
    "\n",
    "Si hacemos una gráfica de tiempo VS porcentaje de depreciación sobre el precio original nos dará una mejor estimación de como será el precio de un automóvil usado.\n",
    "\n",
    "Por otro lado si analizamos el precio absoluto no tendremos mucho detalle de la proporción de como se deprecia en el transcurso del tiempo y de esa forma la estimación no será tan precisa a diferencia de si analizamos el porcentaje de depreciación sobre el precio original.\n",
    "\n",
    "\n"
   ]
  },
  {
   "cell_type": "markdown",
   "metadata": {},
   "source": [
    "**10 .Los investigadores de ML a menudo prueban sus algoritmos usando dominios públicos de referencia. Un gran repositorio de tales dominios se puede encontrar en la siguiente dirección: [www.ics.uci.edu/~mlearn/MLRepository.html](www.ics.uci.edu/~mlearn/MLRepository.html). Echa un vistazo a estos datos y ver cómo difieren en el número de atributos, tipos de atributos, tamaños y así sucesivamente.**"
   ]
  },
  {
   "cell_type": "markdown",
   "metadata": {
    "collapsed": true
   },
   "source": [
    "### Respuestas\n",
    "\n",
    "La dirección dada es una colección de base de datos y generadores de datos que son usados por la comunidad de machine learning para el análisis empírico de de algoritmos de machine learning.\n",
    "\n",
    "Ejemplo de Dataset :\n",
    "\n",
    "* Bank Marketing Data Set : \n",
    "Viene del área de negocios, sus atributos vienen desde edad del clientes, posición laboral, estado marital, prestamos, etc. Contiene 17 atributo y 45211 instancias.\n",
    "\n",
    "* Heart Disease\n",
    "Viene del área de vida. Contiene 76 atributos que van desde id del pacientes, años que lleva fumando el paciente, etc.\n",
    "Contiene 303 instancias.\n",
    "\n",
    "\n",
    "* Car Evaluation Data Set\n",
    "Ese data set fue donado por el año 1997, es un dataset que se presta para realizar clasificación. Contiene "
   ]
  },
  {
   "cell_type": "markdown",
   "metadata": {},
   "source": [
    "**11 . Escribe un programa  que usará la fórmula de Bayes para calcular las probabilidades de clase en un dominio donde todos los atributos son discretos.**"
   ]
  },
  {
   "cell_type": "markdown",
   "metadata": {},
   "source": [
    "Viendo el teorema de Bayes...\n",
    "![imagen](images/TeorBayes.png)"
   ]
  },
  {
   "cell_type": "code",
   "execution_count": 81,
   "metadata": {
    "collapsed": false
   },
   "outputs": [
    {
     "data": {
      "text/html": [
       "<div>\n",
       "<table border=\"1\" class=\"dataframe\">\n",
       "  <thead>\n",
       "    <tr style=\"text-align: right;\">\n",
       "      <th></th>\n",
       "      <th>Vainilla</th>\n",
       "      <th>Chocolate</th>\n",
       "      <th>Fresa</th>\n",
       "      <th>Total</th>\n",
       "    </tr>\n",
       "  </thead>\n",
       "  <tbody>\n",
       "    <tr>\n",
       "      <th>No</th>\n",
       "      <td>1.0</td>\n",
       "      <td>2.0</td>\n",
       "      <td>2.0</td>\n",
       "      <td>5.0</td>\n",
       "    </tr>\n",
       "    <tr>\n",
       "      <th>Si</th>\n",
       "      <td>0.0</td>\n",
       "      <td>1.0</td>\n",
       "      <td>4.0</td>\n",
       "      <td>5.0</td>\n",
       "    </tr>\n",
       "    <tr>\n",
       "      <th>Total</th>\n",
       "      <td>1.0</td>\n",
       "      <td>3.0</td>\n",
       "      <td>6.0</td>\n",
       "      <td>10.0</td>\n",
       "    </tr>\n",
       "  </tbody>\n",
       "</table>\n",
       "</div>"
      ],
      "text/plain": [
       "       Vainilla  Chocolate  Fresa  Total\n",
       "No          1.0        2.0    2.0    5.0\n",
       "Si          0.0        1.0    4.0    5.0\n",
       "Total       1.0        3.0    6.0   10.0"
      ]
     },
     "execution_count": 81,
     "metadata": {},
     "output_type": "execute_result"
    }
   ],
   "source": [
    "import numpy as np\n",
    "import pandas as pd\n",
    "\n",
    "# Creacion del dataset\n",
    "# Vainilla = 0         # No = 0\n",
    "# Chocolate = 1        # Si = 1\n",
    "# Fresa = 2\n",
    "\n",
    "sabores = ['Vainilla', 'Chocolate', 'Fresa', 'Total']\n",
    "eleccion = ['No', 'Si', 'Total']\n",
    "\n",
    "data = [['Vainilla', 'No'], ['Chocolate', 'No'], ['Chocolate', 'No'],\n",
    "        ['Chocolate', 'Si'], ['Fresa', 'No'], ['Fresa', 'No'],\n",
    "        ['Fresa', 'Si'], ['Fresa', 'Si'], ['Fresa', 'Si'],\n",
    "        ['Fresa', 'Si']]\n",
    "\n",
    "tabla_frec = pd.DataFrame.from_items(((x, np.zeros(4))for x in eleccion),\n",
    "                                    orient='index', columns=sabores)\n",
    "for x, y in data:\n",
    "        tabla_frec[x][y] = tabla_frec[x][y] + 1\n",
    "\n",
    "for i in sabores:\n",
    "    tabla_frec[i]['Total'] = sum(tabla_frec[i][:-1])\n",
    "tabla_frec['Total']['No'] = 5\n",
    "tabla_frec['Total']['Si'] = 5\n",
    "tabla_frec['Total']['Total'] = 10\n",
    "        \n",
    "tabla_frec"
   ]
  },
  {
   "cell_type": "markdown",
   "metadata": {},
   "source": [
    "Ahora queremos saber si voy a comer helado si el sabor es Fresa:\n",
    "\n",
    "P(Si | Fresa) = P(Fresa | Si) * P(Si) / P(Fresa)"
   ]
  },
  {
   "cell_type": "code",
   "execution_count": 91,
   "metadata": {
    "collapsed": false
   },
   "outputs": [
    {
     "name": "stdout",
     "output_type": "stream",
     "text": [
      "P(Fresa | Si) = 0.666666666667\n",
      "P(Si) = 0.5\n",
      "P(Fresa) = 0.6\n",
      "------------------\n",
      "P(Si | Fresa) = 0.5555555555558334\n"
     ]
    }
   ],
   "source": [
    "print('P(Fresa | Si) = ' + str(tabla_frec['Fresa']['Si']/tabla_frec['Fresa']['Total']))\n",
    "print('P(Si) = ' + str(tabla_frec['Total']['Si'] / tabla_frec['Total']['Total']))\n",
    "print('P(Fresa) = ' + str(tabla_frec['Fresa']['Total'] / tabla_frec['Total']['Total']))\n",
    "print('------------------')\n",
    "aux = 0.666666666667 * 0.5 / 0.6\n",
    "# Teniendo un dominio discreto de valores, entre sabores y elecciones,\n",
    "# podemos aplicar el teorema de bayes y vemos que es mas probable que \n",
    "# podamos comer helado de helado.\n",
    "\n",
    "# Entre las ventajas del Naive Bayes es que podemos sacar conclusiones\n",
    "# con poca data pero tambien es conocido como un mal estimador\n",
    "print('P(Si | Fresa) = ' + str(aux))"
   ]
  },
  {
   "cell_type": "markdown",
   "metadata": {},
   "source": [
    "**12 .¿Cómo calcularías las probabilidades de las clases de salida en un dominio donde algunos atributos son booleanos, otros discretos y otros continuos? Discute las posibilidades de combinar diferentes enfoques. Para el caso de atributos continuos, escribe un programa  que acepte los ejemplos de entrenamiento en la forma de una tabla por ejemplo.**\n",
    "\n",
    "Aplica este programa a unos pocos dominios de referencia del repositorio UCI (escoja de aquellos donde todos los atributos son continuos) y observe que el programa tiene éxito en algunos dominios mejor que en otros."
   ]
  },
  {
   "cell_type": "code",
   "execution_count": 10,
   "metadata": {
    "collapsed": true
   },
   "outputs": [],
   "source": [
    "# Tu codigo"
   ]
  },
  {
   "cell_type": "markdown",
   "metadata": {},
   "source": [
    "**13 .Ajuste un modelo lineal al conjunto de datos de deuda de préstamos estudiantiles de los Estados Unidos  llamado `student_debt_data.csv`, resolviendo el problema de mínimos cuadrados de regresión lineal asociado. Si esta tendencia lineal continua, ¿cuál será la deuda total del estudiante en el año 2050?**"
   ]
  },
  {
   "cell_type": "code",
   "execution_count": 68,
   "metadata": {
    "collapsed": true
   },
   "outputs": [],
   "source": [
    "# Tu codigo\n",
    "import pandas as pd\n",
    "data = pd.read_csv('student_debt.csv').get_values()\n",
    "x = data[:,0].reshape([40, 1])\n",
    "y = data[:,1]"
   ]
  },
  {
   "cell_type": "code",
   "execution_count": 69,
   "metadata": {
    "collapsed": false
   },
   "outputs": [
    {
     "data": {
      "text/plain": [
       "[<matplotlib.lines.Line2D at 0x7f592316ce48>]"
      ]
     },
     "execution_count": 69,
     "metadata": {},
     "output_type": "execute_result"
    },
    {
     "data": {
      "image/png": "[encoded data removed]",
      "text/plain": [
       "<matplotlib.figure.Figure at 0x7f592dc5b710>"
      ]
     },
     "metadata": {},
     "output_type": "display_data"
    }
   ],
   "source": [
    "import matplotlib.pyplot as plt\n",
    "%matplotlib inline\n",
    "\n",
    "plt.plot(x, y, '.')"
   ]
  },
  {
   "cell_type": "code",
   "execution_count": 71,
   "metadata": {
    "collapsed": false
   },
   "outputs": [
    {
     "name": "stdout",
     "output_type": "stream",
     "text": [
      "La deuda total del estudiante para el ano 2050 sera 3.93601056417 trillones de dolares.\n"
     ]
    }
   ],
   "source": [
    "from sklearn import linear_model\n",
    "from sklearn.metrics import mean_squared_error, r2_score\n",
    "\n",
    "# Se crea el objeto regresor linear\n",
    "regr = linear_model.LinearRegression()\n",
    "# Se entrena el modelo\n",
    "regr.fit(x, y)\n",
    "# Se predice el resultado para el ano 2050\n",
    "pred = regr.predict(2050.0)\n",
    "\n",
    "print('La deuda total del estudiante para el ano 2050 sera ' + \n",
    "      str(pred[0]) + ' trillones de dolares.')"
   ]
  },
  {
   "cell_type": "markdown",
   "metadata": {},
   "source": [
    "**14 . La función de costo de mínimos cuadrados para una regresión lineal se puede escribir de manera compacta como:**\n",
    "\n",
    "$$\n",
    "g(\\hat{w}) = \\sum_{p =1}^{P}\\biggl(\\hat{x}_p^T\\hat{w} - y_p \\biggr)^2,\n",
    "$$\n",
    "\n",
    "es una función cuadrática convexa. "
   ]
  },
  {
   "cell_type": "markdown",
   "metadata": {
    "collapsed": true
   },
   "source": [
    "### Tu respuesta\n",
    "\n",
    "De la expresion $\\hat{x}_{p}^{T}\\hat{w} - y_{p}$ obtendremos una expresion lineal. \n",
    "\n",
    "Luego, $(\\hat{x}_{p}^{T}\\hat{w} - y_{p})^{2}$ se convierte en una funcion cuadratica. Sabemos que las funciones cuadraticas son convexas.\n",
    "\n",
    "Finalmente, obtendremos una sumatoria de funciones convexas lo cual nos sigue dando una funcion cuadradatica convexa por propiedad de las funciones convexas.\n",
    "\n",
    "\n",
    "Otra forma de obtener es $\\frac{\\partial^2 g}{\\partial \\hat{w}^{2}} > 0$, por ende una funcion convexa y cuadratica."
   ]
  },
  {
   "cell_type": "markdown",
   "metadata": {},
   "source": [
    "**15. (Watt-Borhani-Katsaggelos). Gordon Moore, cofundador de la corporación Intel, predijo en un artículo de 1965, que el número de transistores en un circuito integrado se duplicaría aproximadamente cada dos años. Esta conjetura, referida en la actualidad como la ley de Moore, ha demostrado ser lo suficientemente precisa en las últimas cinco décadas.**\n",
    "\n",
    "Dado que el poder de procesamiento de las computadoras está directamente relacionado con el número de transistores en sus CPU, la ley de Moore proporciona un modelo de tendencia para predecir el poder de cálculo de futuros microprocesadores.\n",
    "\n",
    "La Figura siguiente muestra los recuentos de transistores de varios microprocesadores en comparación con el año en que fueron liberados, comenzando desde Intel 4004 en 1971 con sólo 2300 transistores, hasta el Xeon E7 de Intel, introducido en 2014 con más de 4.300 millones de transistores.\n",
    "\n",
    "![](Moore-Law.png)\n",
    "\n",
    "\n",
    "* Propone una transformación de base exponencial basada en la ley de Moore, mostrada en la figura anteior , de modo que los datos de entrada y salida transformados estén relacionados linealmente.\n",
    "\n",
    "* Formula y minimice una función de costo de mínimos cuadrados para pesos apropiados y ajuste su modelo a los datos en el espacio de datos original. Los datos mostrados aquí se encuentran en el archivo `transistor_counts.csv`."
   ]
  },
  {
   "cell_type": "code",
   "execution_count": 5,
   "metadata": {
    "collapsed": false
   },
   "outputs": [
    {
     "data": {
      "text/html": [
       "<div>\n",
       "<style>\n",
       "    .dataframe thead tr:only-child th {\n",
       "        text-align: right;\n",
       "    }\n",
       "\n",
       "    .dataframe thead th {\n",
       "        text-align: left;\n",
       "    }\n",
       "\n",
       "    .dataframe tbody tr th {\n",
       "        vertical-align: top;\n",
       "    }\n",
       "</style>\n",
       "<table border=\"1\" class=\"dataframe\">\n",
       "  <thead>\n",
       "    <tr style=\"text-align: right;\">\n",
       "      <th></th>\n",
       "      <th>#processor</th>\n",
       "      <th>transistors</th>\n",
       "      <th>year</th>\n",
       "      <th>manufacturer</th>\n",
       "      <th>process</th>\n",
       "      <th>area</th>\n",
       "    </tr>\n",
       "  </thead>\n",
       "  <tbody>\n",
       "    <tr>\n",
       "      <th>0</th>\n",
       "      <td>Intel 4004</td>\n",
       "      <td>2300</td>\n",
       "      <td>1971</td>\n",
       "      <td>Intel</td>\n",
       "      <td>10 µm</td>\n",
       "      <td>12 mm²</td>\n",
       "    </tr>\n",
       "    <tr>\n",
       "      <th>1</th>\n",
       "      <td>Intel 8008</td>\n",
       "      <td>3500</td>\n",
       "      <td>1972</td>\n",
       "      <td>Intel</td>\n",
       "      <td>10 µm</td>\n",
       "      <td>14 mm²</td>\n",
       "    </tr>\n",
       "    <tr>\n",
       "      <th>2</th>\n",
       "      <td>MOS Technology 6502</td>\n",
       "      <td>3510</td>\n",
       "      <td>1975</td>\n",
       "      <td>MOS Technology</td>\n",
       "      <td>8 μm</td>\n",
       "      <td>21 mm²</td>\n",
       "    </tr>\n",
       "    <tr>\n",
       "      <th>3</th>\n",
       "      <td>Motorola 6800</td>\n",
       "      <td>4100</td>\n",
       "      <td>1974</td>\n",
       "      <td>Motorola</td>\n",
       "      <td>6 μm</td>\n",
       "      <td>16 mm²</td>\n",
       "    </tr>\n",
       "    <tr>\n",
       "      <th>4</th>\n",
       "      <td>Intel 8080</td>\n",
       "      <td>4500</td>\n",
       "      <td>1974</td>\n",
       "      <td>Intel</td>\n",
       "      <td>6 μm</td>\n",
       "      <td>20 mm²</td>\n",
       "    </tr>\n",
       "  </tbody>\n",
       "</table>\n",
       "</div>"
      ],
      "text/plain": [
       "            #processor  transistors  year    manufacturer process    area\n",
       "0           Intel 4004         2300  1971           Intel   10 µm  12 mm²\n",
       "1           Intel 8008         3500  1972           Intel   10 µm  14 mm²\n",
       "2  MOS Technology 6502         3510  1975  MOS Technology    8 μm  21 mm²\n",
       "3        Motorola 6800         4100  1974        Motorola    6 μm  16 mm²\n",
       "4           Intel 8080         4500  1974           Intel    6 μm  20 mm²"
      ]
     },
     "execution_count": 5,
     "metadata": {},
     "output_type": "execute_result"
    }
   ],
   "source": [
    "# Tu codigo\n",
    "import pandas as pd\n",
    "import matplotlib.pyplot as plt\n",
    "import numpy as np\n",
    "\n",
    "plt.rcParams['figure.figsize'] = (12, 10)\n",
    "\n",
    "data = pd.read_csv('transistor-counts.csv')\n",
    "data.head()"
   ]
  },
  {
   "cell_type": "code",
   "execution_count": 6,
   "metadata": {
    "collapsed": false
   },
   "outputs": [
    {
     "name": "stderr",
     "output_type": "stream",
     "text": [
      "/home/gerson/anaconda3/lib/python3.6/site-packages/ipykernel_launcher.py:2: FutureWarning: reshape is deprecated and will raise in a subsequent release. Please use .values.reshape(...) instead\n",
      "  \n",
      "/home/gerson/anaconda3/lib/python3.6/site-packages/ipykernel_launcher.py:4: FutureWarning: reshape is deprecated and will raise in a subsequent release. Please use .values.reshape(...) instead\n",
      "  after removing the cwd from sys.path.\n"
     ]
    }
   ],
   "source": [
    "x = data[\"year\"]\n",
    "x = x.reshape((len(x), 1))\n",
    "y = data[\"transistors\"]\n",
    "y = y.reshape((len(y), 1))"
   ]
  },
  {
   "cell_type": "code",
   "execution_count": 8,
   "metadata": {
    "collapsed": false,
    "scrolled": false
   },
   "outputs": [
    {
     "data": {
      "image/png": "[encoded data removed]",
      "text/plain": [
       "<matplotlib.figure.Figure at 0x7fe42b59bf60>"
      ]
     },
     "metadata": {},
     "output_type": "display_data"
    }
   ],
   "source": [
    "# Transformando y para poder usar una regresion lineal\n",
    "y_log = np.log(y)\n",
    "\n",
    "plt.scatter(x,y_log)\n",
    "plt.show()"
   ]
  },
  {
   "cell_type": "code",
   "execution_count": 9,
   "metadata": {
    "collapsed": false
   },
   "outputs": [
    {
     "data": {
      "text/plain": [
       "LinearRegression(copy_X=True, fit_intercept=True, n_jobs=1, normalize=False)"
      ]
     },
     "execution_count": 9,
     "metadata": {},
     "output_type": "execute_result"
    }
   ],
   "source": [
    "from sklearn.linear_model import LinearRegression\n",
    "regressor = LinearRegression()\n",
    "regressor.fit(x, y_log)"
   ]
  },
  {
   "cell_type": "code",
   "execution_count": 11,
   "metadata": {
    "collapsed": false
   },
   "outputs": [
    {
     "data": {
      "image/png": "[encoded data removed]",
      "text/plain": [
       "<matplotlib.figure.Figure at 0x7fe4277e5be0>"
      ]
     },
     "metadata": {},
     "output_type": "display_data"
    }
   ],
   "source": [
    "# Predicting \n",
    "y_pred = regressor.predict(x)\n",
    "\n",
    "# Visualising the Training set results\n",
    "plt.scatter(x, y_log, color = 'red')\n",
    "plt.plot(x, regressor.predict(x), color = 'blue')\n",
    "plt.title('Ley de Moore')\n",
    "plt.xlabel('Año')\n",
    "plt.ylabel('N° de transistores')\n",
    "plt.show()"
   ]
  },
  {
   "cell_type": "code",
   "execution_count": 15,
   "metadata": {
    "collapsed": false
   },
   "outputs": [
    {
     "name": "stdout",
     "output_type": "stream",
     "text": [
      "0.959761783173\n"
     ]
    }
   ],
   "source": [
    "# Retornamos los pesos\n",
    "weights=regressor.score(x, y_log)\n",
    "print(weights)"
   ]
  },
  {
   "cell_type": "markdown",
   "metadata": {},
   "source": [
    "**16 .(Bishop). Dado un conjunto de puntos $\\{x_n\\}$, podemos definir la cápsula convexa como el conjunto de todos los puntos:**\n",
    "\n",
    "$$\n",
    "x = \\sum_{n}\\alpha_nx_n\n",
    "$$\n",
    "\n",
    "donde $\\alpha_n \\geq 0$ y $\\sum_{n}\\alpha_n = 1$. Consideremos un segundo conjunto de puntos $\\{y_n \\}$ junto con su correspondiente cápsula convexa. Por definición los dos conjuntos de puntos son linealmente separables si existe un vector $\\hat{w}$ y un escalar $w_0$ tal que $\\hat{w}^Tx_n + w_0 > 0$ para todo $x_n$ y $\\hat{w}^Ty_n + w_0 < 0$ para todo $y_n$.\n",
    "\n",
    "\n",
    "Demuestre que si sus cápsulas convexas se intersecan, los dos conjuntos de puntos no pueden ser linealmente separables, y viceversa que si son linealmente separables, sus cápsulas convexas no se cruzan."
   ]
  },
  {
   "cell_type": "markdown",
   "metadata": {
    "collapsed": true
   },
   "source": [
    "Primero calculamos las discriminantes lineales para los puntos que pertenecen a las 2 capsulas convexas. \n",
    "\n",
    "Para puntos en la cápsula convexa de $\\{x_n\\}$ la discriminante lineal será:\n",
    "\n",
    "$$\n",
    "f(x) = \\hat{w}^Tx_n + w_0 ... (1)\n",
    "$$\n",
    "\n",
    "Remplazando en la definición:\n",
    "\n",
    "$$\n",
    "f(x) = \\hat{w}^T(\\sum_{n}\\alpha_nx_n) + w_0 ... (2)\n",
    "$$\n",
    "\n",
    "Como $\\alpha_n$ es una cantidad escalar tenemos:\n",
    "\n",
    "$$\n",
    "f(x) = \\sum_{n} \\alpha_n ( \\hat{w}^T x_n) + w_0\n",
    "$$\n",
    "$$\n",
    "f(x) = \\alpha_n \\sum_{n}  ( \\hat{w}^T x_n + w_0)  ... (3)\n",
    "$$\n",
    "\n",
    "De manera análoga con los puntos $\\{y_n\\}$ \n",
    "\n",
    "$$\n",
    "f(y) = \\beta_n \\sum_{n}  ( \\hat{w}^T y_n + w_0)\n",
    "$$\n",
    "\n",
    "Si 2 cápsulas convexas se intersectan debe haber al menos un punto en común entre $\\{ x\\}$ y $\\{ y\\}$. \n",
    "Vamos a escoger un punto xy. Como xy pertenece a ambas cápsulas convexas, debe haber al menos un conjunto de $\\{ \\alpha_n \\}$ y $\\{ \\beta_n \\}$ que da lugar a xy. La discriminante lineal para xy ahora se puede escribir en dos formas distintas pero equivalentes. De 3 y 4 tenemos:\n",
    "\n",
    "$$\n",
    "f(xy) = \\alpha_n \\sum_{n}  ( \\hat{w}^T x_n + w_0) = \\beta_n \\sum_{n}  ( \\hat{w}^T y_n + w_0)\n",
    "$$\n",
    "\n",
    "Para que sean linealmente separables debemos tener:\n",
    "\n",
    "$$\n",
    "f(x) = \\hat{w}^T x_n + w_0 > 0\n",
    "$$\n",
    "\n",
    "$$\n",
    "f(x) = \\hat{w}^T y_n + w_0 < 0\n",
    "$$\n",
    "\n",
    "Como $\\alpha$ y $\\beta$ eran no-negativos entonces tenemos una contradicción. Que el discriminante lineal (xy) sea simultaneamente mayor y menor que cero es imposible.\n",
    "\n",
    "Si los conjuntos son linealmente separables entonces tenemos:\n",
    "\n",
    "$$\n",
    "f(x) = \\hat{w}^T x_n + w_0 > 0\n",
    "$$\n",
    "\n",
    "$$\n",
    "f(x) = \\hat{w}^T y_n + w_0 < 0\n",
    "$$\n",
    "\n",
    "Asumimos entonces que hay un punto xy situado en la inter"
   ]
  },
  {
   "cell_type": "markdown",
   "metadata": {},
   "source": [
    "17 .\n",
    "\n",
    "* Proporciona un ejemplo de un conjunto de datos bidimensional para el cual los datos son linealmente separables, pero no linealmente independientes.\n",
    " linealmente independiente.\n",
    "    \n",
    "* ¿Puedes encontrar un conjunto de datos que sea linealmente independiente pero no linealmente separable?."
   ]
  },
  {
   "cell_type": "markdown",
   "metadata": {
    "collapsed": true
   },
   "source": [
    "### Tu respuesta\n",
    "\n",
    "* Para que una coleccion de datos {$z^{1}, z^{2}, ...,z^{m}$} sea linealmente no separable, debe existir $q_{i}, 1 \\leq i \\leq m$, de manera que su combinacion lineal con coeficientes $q_{i}$ sea igual a cero y $q_{j} \\ne 0 $ para algun j, $1 \\leq j \\leq m $ y todos los $q_{j}$ tengan el mismo signo.\n",
    "\n",
    "Supongamos que \n",
    "\n",
    "$$ B_{1} = [1 1 1] ; B_{2} = [-1 1 1] ; B_{3} = [-1 -1 1] ; B_{4} = [1 -1 1] $$\n",
    "\n",
    "donde B = {$B_{1}, B_{2}, B_{3}, B_{4}$}, una combinacion lineal igual a cero donde **todos** los coeficientes son **positivos** o **todos negativos** es imposible. Esto no cumple con la definicion de lineal no separable.\n",
    "\n",
    "La unica solucion vendria  a con todos los coeficientes igual a cero. De esto concluimos que el conjunto de datos es linealmente separable.\n",
    "\n",
    "Ademas notamos que son linealmente dependientes ya que de la combinacion lineal de ellos igualando a cero, tenemos que la unica solucion puede satisfacerse si $q_{1} = 1, q_{2} = -1, q_{3} = 1, q_{4} = -1$ , donde $q_{1}B_{1} + q_{2}B_{2} + q_{3}B_{3} + q_{4}B_{4} = 0$\n",
    "\n",
    "* No se puede encontrar un conjunto de datos que sea linealmente independiente y a la vez linealmente separable.\n",
    "\n",
    "![imagen](images/photo.png)"
   ]
  },
  {
   "cell_type": "markdown",
   "metadata": {},
   "source": [
    "**18 . Demuestra que para la regresión de mínimos cuadrados ordinarios y ortogonales  ajustados a los datos $(x_n, y_n), n = 1, \\dots, N$ las líneas ajustadas  pasan por el punto $\\sum_{n =1}^{N}(x_n, y_n)/N$.**"
   ]
  },
  {
   "cell_type": "markdown",
   "metadata": {
    "collapsed": true
   },
   "source": [
    "### Tu respuesta\n",
    "Sea una función :  $y(x) = w^T \\phi(x)$\n",
    "\n",
    "Siendo $\\phi(x) = (1,x)^T$, $w = (a,b)^T$\n",
    "\n",
    "Entonces si enumeramos para valor de x^n\n",
    "\n",
    "$$y_1 = w^T \\phi(x_1)$$\n",
    "$$y_2 = w^T \\phi(x_2)$$\n",
    "$$y_3 = w^T \\phi(x_3)$$\n",
    "...\n",
    "...\n",
    "$$y_n = w^T \\phi(x_n)$$\n",
    "\n",
    "Si sumamos cada unas de estas operaciones obtenemos:\n",
    "\n",
    "$$\\sum_{i=1}^{n}y_i = (\\sum_{i=1}^{n}a,b*\\sum_{i=1}^{n}x)$$\n",
    "\n",
    "Dividimos entre n:\n",
    "\n",
    "$$ \\frac{\\sum_{i=1}^{n}y_i}{N}  = (a,b*\\frac{\\sum_{i=1}^{n}x}{N} )$$\n",
    "\n",
    "$$ \\frac{\\sum_{i=1}^{n}y_i}{N}  = W^T \\phi(\\frac{\\sum_{i=1}^{n}x}{N})$$\n",
    "\n",
    "Quedando demostrado que el punto tambien satisface la funcion y(x)"
   ]
  },
  {
   "cell_type": "markdown",
   "metadata": {},
   "source": [
    "**19 . Proporciona un reporte del manejo que hace scikit learn acerca de los modelos de regresión lineal: http://scikit-learn.org/stable/modules/generated/slearn.linear_model.LinearRegression.html. Muestra ejemplos.**\n"
   ]
  },
  {
   "cell_type": "markdown",
   "metadata": {
    "collapsed": true
   },
   "source": [
    "### Scikit Learn\n",
    "\n",
    "Scikit-learn es un poderoso módulo de Python para el aprendizaje automático. El cual contiene funciones para: \n",
    "\n",
    "* regresión(regression)\n",
    "* clasificación(classification)\n",
    "* agrupación(clusterin)\n",
    "* selección de modelo, y\n",
    "* reducción de dimensionalidad\n",
    "\n",
    "Usaremos **Boston Housing data set**, el conjunto de datos contiene información acerca de la viviendas de Boston.\n",
    "\n",
    "Lo primero paso será importar la librerías de python que nos ayudaran a mostrar las características de scikit-learn."
   ]
  },
  {
   "cell_type": "code",
   "execution_count": 2,
   "metadata": {
    "collapsed": true
   },
   "outputs": [],
   "source": [
    "%matplotlib inline\n",
    "import numpy as np\n",
    "import pandas as pd\n",
    "import scipy.stats as stats\n",
    "import matplotlib.pyplot as plt\n",
    "import sklearn"
   ]
  },
  {
   "cell_type": "code",
   "execution_count": 3,
   "metadata": {
    "collapsed": true
   },
   "outputs": [],
   "source": [
    "# La base de datos se encuentra en el modulo de scikit-learn\n",
    "# entonces lo importaremos de el de sklearn.datasets\n",
    "from sklearn.datasets import load_boston\n",
    "boston = load_boston()"
   ]
  },
  {
   "cell_type": "code",
   "execution_count": 7,
   "metadata": {
    "collapsed": false
   },
   "outputs": [
    {
     "data": {
      "text/plain": [
       "dict_keys(['data', 'target', 'feature_names', 'DESCR'])"
      ]
     },
     "execution_count": 7,
     "metadata": {},
     "output_type": "execute_result"
    }
   ],
   "source": [
    "# Nuestro viene a ser un diccionario con los keys que \n",
    "# que el data set posee, como los mismo datos, atributos,\n",
    "# etiquetas, etc.\n",
    "boston.keys()"
   ]
  },
  {
   "cell_type": "code",
   "execution_count": 8,
   "metadata": {
    "collapsed": false
   },
   "outputs": [
    {
     "data": {
      "text/plain": [
       "(506, 13)"
      ]
     },
     "execution_count": 8,
     "metadata": {},
     "output_type": "execute_result"
    }
   ],
   "source": [
    "# Y un tamaño de :\n",
    "boston.data.shape"
   ]
  },
  {
   "cell_type": "code",
   "execution_count": 12,
   "metadata": {
    "collapsed": false
   },
   "outputs": [
    {
     "name": "stdout",
     "output_type": "stream",
     "text": [
      "['CRIM' 'ZN' 'INDUS' 'CHAS' 'NOX' 'RM' 'AGE' 'DIS' 'RAD' 'TAX' 'PTRATIO'\n",
      " 'B' 'LSTAT']\n"
     ]
    }
   ],
   "source": [
    "# Ahora mostraremos los atributos que possee el data set\n",
    "print(boston.feature_names)"
   ]
  },
  {
   "cell_type": "code",
   "execution_count": 11,
   "metadata": {
    "collapsed": false
   },
   "outputs": [
    {
     "name": "stdout",
     "output_type": "stream",
     "text": [
      "Boston House Prices dataset\n",
      "===========================\n",
      "\n",
      "Notes\n",
      "------\n",
      "Data Set Characteristics:  \n",
      "\n",
      "    :Number of Instances: 506 \n",
      "\n",
      "    :Number of Attributes: 13 numeric/categorical predictive\n",
      "    \n",
      "    :Median Value (attribute 14) is usually the target\n",
      "\n",
      "    :Attribute Information (in order):\n",
      "        - CRIM     per capita crime rate by town\n",
      "        - ZN       proportion of residential land zoned for lots over 25,000 sq.ft.\n",
      "        - INDUS    proportion of non-retail business acres per town\n",
      "        - CHAS     Charles River dummy variable (= 1 if tract bounds river; 0 otherwise)\n",
      "        - NOX      nitric oxides concentration (parts per 10 million)\n",
      "        - RM       average number of rooms per dwelling\n",
      "        - AGE      proportion of owner-occupied units built prior to 1940\n",
      "        - DIS      weighted distances to five Boston employment centres\n",
      "        - RAD      index of accessibility to radial highways\n",
      "        - TAX      full-value property-tax rate per $10,000\n",
      "        - PTRATIO  pupil-teacher ratio by town\n",
      "        - B        1000(Bk - 0.63)^2 where Bk is the proportion of blacks by town\n",
      "        - LSTAT    % lower status of the population\n",
      "        - MEDV     Median value of owner-occupied homes in $1000's\n",
      "\n",
      "    :Missing Attribute Values: None\n",
      "\n",
      "    :Creator: Harrison, D. and Rubinfeld, D.L.\n",
      "\n",
      "This is a copy of UCI ML housing dataset.\n",
      "http://archive.ics.uci.edu/ml/datasets/Housing\n",
      "\n",
      "\n",
      "This dataset was taken from the StatLib library which is maintained at Carnegie Mellon University.\n",
      "\n",
      "The Boston house-price data of Harrison, D. and Rubinfeld, D.L. 'Hedonic\n",
      "prices and the demand for clean air', J. Environ. Economics & Management,\n",
      "vol.5, 81-102, 1978.   Used in Belsley, Kuh & Welsch, 'Regression diagnostics\n",
      "...', Wiley, 1980.   N.B. Various transformations are used in the table on\n",
      "pages 244-261 of the latter.\n",
      "\n",
      "The Boston house-price data has been used in many machine learning papers that address regression\n",
      "problems.   \n",
      "     \n",
      "**References**\n",
      "\n",
      "   - Belsley, Kuh & Welsch, 'Regression diagnostics: Identifying Influential Data and Sources of Collinearity', Wiley, 1980. 244-261.\n",
      "   - Quinlan,R. (1993). Combining Instance-Based and Model-Based Learning. In Proceedings on the Tenth International Conference of Machine Learning, 236-243, University of Massachusetts, Amherst. Morgan Kaufmann.\n",
      "   - many more! (see http://archive.ics.uci.edu/ml/datasets/Housing)\n",
      "\n"
     ]
    }
   ],
   "source": [
    "# Ahora si deseamos tener un decripción mas detallada \n",
    "print(boston.DESCR)"
   ]
  },
  {
   "cell_type": "markdown",
   "metadata": {},
   "source": [
    "Ahora usamos los dataframes de pandas para poder realizar la manipulación del conjunto de datos, entonces lo importamos haciendo uso de la liberia de pandas."
   ]
  },
  {
   "cell_type": "code",
   "execution_count": 13,
   "metadata": {
    "collapsed": false
   },
   "outputs": [
    {
     "data": {
      "text/html": [
       "<div>\n",
       "<style>\n",
       "    .dataframe thead tr:only-child th {\n",
       "        text-align: right;\n",
       "    }\n",
       "\n",
       "    .dataframe thead th {\n",
       "        text-align: left;\n",
       "    }\n",
       "\n",
       "    .dataframe tbody tr th {\n",
       "        vertical-align: top;\n",
       "    }\n",
       "</style>\n",
       "<table border=\"1\" class=\"dataframe\">\n",
       "  <thead>\n",
       "    <tr style=\"text-align: right;\">\n",
       "      <th></th>\n",
       "      <th>0</th>\n",
       "      <th>1</th>\n",
       "      <th>2</th>\n",
       "      <th>3</th>\n",
       "      <th>4</th>\n",
       "      <th>5</th>\n",
       "      <th>6</th>\n",
       "      <th>7</th>\n",
       "      <th>8</th>\n",
       "      <th>9</th>\n",
       "      <th>10</th>\n",
       "      <th>11</th>\n",
       "      <th>12</th>\n",
       "    </tr>\n",
       "  </thead>\n",
       "  <tbody>\n",
       "    <tr>\n",
       "      <th>0</th>\n",
       "      <td>0.00632</td>\n",
       "      <td>18.0</td>\n",
       "      <td>2.31</td>\n",
       "      <td>0.0</td>\n",
       "      <td>0.538</td>\n",
       "      <td>6.575</td>\n",
       "      <td>65.2</td>\n",
       "      <td>4.0900</td>\n",
       "      <td>1.0</td>\n",
       "      <td>296.0</td>\n",
       "      <td>15.3</td>\n",
       "      <td>396.90</td>\n",
       "      <td>4.98</td>\n",
       "    </tr>\n",
       "    <tr>\n",
       "      <th>1</th>\n",
       "      <td>0.02731</td>\n",
       "      <td>0.0</td>\n",
       "      <td>7.07</td>\n",
       "      <td>0.0</td>\n",
       "      <td>0.469</td>\n",
       "      <td>6.421</td>\n",
       "      <td>78.9</td>\n",
       "      <td>4.9671</td>\n",
       "      <td>2.0</td>\n",
       "      <td>242.0</td>\n",
       "      <td>17.8</td>\n",
       "      <td>396.90</td>\n",
       "      <td>9.14</td>\n",
       "    </tr>\n",
       "    <tr>\n",
       "      <th>2</th>\n",
       "      <td>0.02729</td>\n",
       "      <td>0.0</td>\n",
       "      <td>7.07</td>\n",
       "      <td>0.0</td>\n",
       "      <td>0.469</td>\n",
       "      <td>7.185</td>\n",
       "      <td>61.1</td>\n",
       "      <td>4.9671</td>\n",
       "      <td>2.0</td>\n",
       "      <td>242.0</td>\n",
       "      <td>17.8</td>\n",
       "      <td>392.83</td>\n",
       "      <td>4.03</td>\n",
       "    </tr>\n",
       "    <tr>\n",
       "      <th>3</th>\n",
       "      <td>0.03237</td>\n",
       "      <td>0.0</td>\n",
       "      <td>2.18</td>\n",
       "      <td>0.0</td>\n",
       "      <td>0.458</td>\n",
       "      <td>6.998</td>\n",
       "      <td>45.8</td>\n",
       "      <td>6.0622</td>\n",
       "      <td>3.0</td>\n",
       "      <td>222.0</td>\n",
       "      <td>18.7</td>\n",
       "      <td>394.63</td>\n",
       "      <td>2.94</td>\n",
       "    </tr>\n",
       "    <tr>\n",
       "      <th>4</th>\n",
       "      <td>0.06905</td>\n",
       "      <td>0.0</td>\n",
       "      <td>2.18</td>\n",
       "      <td>0.0</td>\n",
       "      <td>0.458</td>\n",
       "      <td>7.147</td>\n",
       "      <td>54.2</td>\n",
       "      <td>6.0622</td>\n",
       "      <td>3.0</td>\n",
       "      <td>222.0</td>\n",
       "      <td>18.7</td>\n",
       "      <td>396.90</td>\n",
       "      <td>5.33</td>\n",
       "    </tr>\n",
       "  </tbody>\n",
       "</table>\n",
       "</div>"
      ],
      "text/plain": [
       "        0     1     2    3      4      5     6       7    8      9     10  \\\n",
       "0  0.00632  18.0  2.31  0.0  0.538  6.575  65.2  4.0900  1.0  296.0  15.3   \n",
       "1  0.02731   0.0  7.07  0.0  0.469  6.421  78.9  4.9671  2.0  242.0  17.8   \n",
       "2  0.02729   0.0  7.07  0.0  0.469  7.185  61.1  4.9671  2.0  242.0  17.8   \n",
       "3  0.03237   0.0  2.18  0.0  0.458  6.998  45.8  6.0622  3.0  222.0  18.7   \n",
       "4  0.06905   0.0  2.18  0.0  0.458  7.147  54.2  6.0622  3.0  222.0  18.7   \n",
       "\n",
       "       11    12  \n",
       "0  396.90  4.98  \n",
       "1  396.90  9.14  \n",
       "2  392.83  4.03  \n",
       "3  394.63  2.94  \n",
       "4  396.90  5.33  "
      ]
     },
     "execution_count": 13,
     "metadata": {},
     "output_type": "execute_result"
    }
   ],
   "source": [
    "bos = pd.DataFrame(boston.data)\n",
    "bos.head()"
   ]
  },
  {
   "cell_type": "markdown",
   "metadata": {},
   "source": [
    "Como podemos apreciar no podermos distinguir los atributos de la base de datos entonces poder modificar los valores de la columna del dataframe y reeemplazarla por los features_names"
   ]
  },
  {
   "cell_type": "code",
   "execution_count": 14,
   "metadata": {
    "collapsed": false
   },
   "outputs": [
    {
     "data": {
      "text/html": [
       "<div>\n",
       "<style>\n",
       "    .dataframe thead tr:only-child th {\n",
       "        text-align: right;\n",
       "    }\n",
       "\n",
       "    .dataframe thead th {\n",
       "        text-align: left;\n",
       "    }\n",
       "\n",
       "    .dataframe tbody tr th {\n",
       "        vertical-align: top;\n",
       "    }\n",
       "</style>\n",
       "<table border=\"1\" class=\"dataframe\">\n",
       "  <thead>\n",
       "    <tr style=\"text-align: right;\">\n",
       "      <th></th>\n",
       "      <th>CRIM</th>\n",
       "      <th>ZN</th>\n",
       "      <th>INDUS</th>\n",
       "      <th>CHAS</th>\n",
       "      <th>NOX</th>\n",
       "      <th>RM</th>\n",
       "      <th>AGE</th>\n",
       "      <th>DIS</th>\n",
       "      <th>RAD</th>\n",
       "      <th>TAX</th>\n",
       "      <th>PTRATIO</th>\n",
       "      <th>B</th>\n",
       "      <th>LSTAT</th>\n",
       "    </tr>\n",
       "  </thead>\n",
       "  <tbody>\n",
       "    <tr>\n",
       "      <th>0</th>\n",
       "      <td>0.00632</td>\n",
       "      <td>18.0</td>\n",
       "      <td>2.31</td>\n",
       "      <td>0.0</td>\n",
       "      <td>0.538</td>\n",
       "      <td>6.575</td>\n",
       "      <td>65.2</td>\n",
       "      <td>4.0900</td>\n",
       "      <td>1.0</td>\n",
       "      <td>296.0</td>\n",
       "      <td>15.3</td>\n",
       "      <td>396.90</td>\n",
       "      <td>4.98</td>\n",
       "    </tr>\n",
       "    <tr>\n",
       "      <th>1</th>\n",
       "      <td>0.02731</td>\n",
       "      <td>0.0</td>\n",
       "      <td>7.07</td>\n",
       "      <td>0.0</td>\n",
       "      <td>0.469</td>\n",
       "      <td>6.421</td>\n",
       "      <td>78.9</td>\n",
       "      <td>4.9671</td>\n",
       "      <td>2.0</td>\n",
       "      <td>242.0</td>\n",
       "      <td>17.8</td>\n",
       "      <td>396.90</td>\n",
       "      <td>9.14</td>\n",
       "    </tr>\n",
       "    <tr>\n",
       "      <th>2</th>\n",
       "      <td>0.02729</td>\n",
       "      <td>0.0</td>\n",
       "      <td>7.07</td>\n",
       "      <td>0.0</td>\n",
       "      <td>0.469</td>\n",
       "      <td>7.185</td>\n",
       "      <td>61.1</td>\n",
       "      <td>4.9671</td>\n",
       "      <td>2.0</td>\n",
       "      <td>242.0</td>\n",
       "      <td>17.8</td>\n",
       "      <td>392.83</td>\n",
       "      <td>4.03</td>\n",
       "    </tr>\n",
       "    <tr>\n",
       "      <th>3</th>\n",
       "      <td>0.03237</td>\n",
       "      <td>0.0</td>\n",
       "      <td>2.18</td>\n",
       "      <td>0.0</td>\n",
       "      <td>0.458</td>\n",
       "      <td>6.998</td>\n",
       "      <td>45.8</td>\n",
       "      <td>6.0622</td>\n",
       "      <td>3.0</td>\n",
       "      <td>222.0</td>\n",
       "      <td>18.7</td>\n",
       "      <td>394.63</td>\n",
       "      <td>2.94</td>\n",
       "    </tr>\n",
       "    <tr>\n",
       "      <th>4</th>\n",
       "      <td>0.06905</td>\n",
       "      <td>0.0</td>\n",
       "      <td>2.18</td>\n",
       "      <td>0.0</td>\n",
       "      <td>0.458</td>\n",
       "      <td>7.147</td>\n",
       "      <td>54.2</td>\n",
       "      <td>6.0622</td>\n",
       "      <td>3.0</td>\n",
       "      <td>222.0</td>\n",
       "      <td>18.7</td>\n",
       "      <td>396.90</td>\n",
       "      <td>5.33</td>\n",
       "    </tr>\n",
       "  </tbody>\n",
       "</table>\n",
       "</div>"
      ],
      "text/plain": [
       "      CRIM    ZN  INDUS  CHAS    NOX     RM   AGE     DIS  RAD    TAX  \\\n",
       "0  0.00632  18.0   2.31   0.0  0.538  6.575  65.2  4.0900  1.0  296.0   \n",
       "1  0.02731   0.0   7.07   0.0  0.469  6.421  78.9  4.9671  2.0  242.0   \n",
       "2  0.02729   0.0   7.07   0.0  0.469  7.185  61.1  4.9671  2.0  242.0   \n",
       "3  0.03237   0.0   2.18   0.0  0.458  6.998  45.8  6.0622  3.0  222.0   \n",
       "4  0.06905   0.0   2.18   0.0  0.458  7.147  54.2  6.0622  3.0  222.0   \n",
       "\n",
       "   PTRATIO       B  LSTAT  \n",
       "0     15.3  396.90   4.98  \n",
       "1     17.8  396.90   9.14  \n",
       "2     17.8  392.83   4.03  \n",
       "3     18.7  394.63   2.94  \n",
       "4     18.7  396.90   5.33  "
      ]
     },
     "execution_count": 14,
     "metadata": {},
     "output_type": "execute_result"
    }
   ],
   "source": [
    "bos.columns = boston.feature_names\n",
    "bos.head()"
   ]
  },
  {
   "cell_type": "markdown",
   "metadata": {},
   "source": [
    "Ahora veamos las etiquetas de clasficación(target) que posee cada una y lo agregaremos como una columna que nos representará el precios de cada viviendas,"
   ]
  },
  {
   "cell_type": "code",
   "execution_count": 15,
   "metadata": {
    "collapsed": false
   },
   "outputs": [
    {
     "data": {
      "text/plain": [
       "array([ 24. ,  21.6,  34.7,  33.4,  36.2])"
      ]
     },
     "execution_count": 15,
     "metadata": {},
     "output_type": "execute_result"
    }
   ],
   "source": [
    "boston.target[:5]"
   ]
  },
  {
   "cell_type": "code",
   "execution_count": 21,
   "metadata": {
    "collapsed": false
   },
   "outputs": [
    {
     "data": {
      "text/html": [
       "<div>\n",
       "<style>\n",
       "    .dataframe thead tr:only-child th {\n",
       "        text-align: right;\n",
       "    }\n",
       "\n",
       "    .dataframe thead th {\n",
       "        text-align: left;\n",
       "    }\n",
       "\n",
       "    .dataframe tbody tr th {\n",
       "        vertical-align: top;\n",
       "    }\n",
       "</style>\n",
       "<table border=\"1\" class=\"dataframe\">\n",
       "  <thead>\n",
       "    <tr style=\"text-align: right;\">\n",
       "      <th></th>\n",
       "      <th>CRIM</th>\n",
       "      <th>ZN</th>\n",
       "      <th>INDUS</th>\n",
       "      <th>CHAS</th>\n",
       "      <th>NOX</th>\n",
       "      <th>RM</th>\n",
       "      <th>AGE</th>\n",
       "      <th>DIS</th>\n",
       "      <th>RAD</th>\n",
       "      <th>TAX</th>\n",
       "      <th>PTRATIO</th>\n",
       "      <th>B</th>\n",
       "      <th>LSTAT</th>\n",
       "      <th>PRICE</th>\n",
       "    </tr>\n",
       "  </thead>\n",
       "  <tbody>\n",
       "    <tr>\n",
       "      <th>0</th>\n",
       "      <td>0.00632</td>\n",
       "      <td>18.0</td>\n",
       "      <td>2.31</td>\n",
       "      <td>0.0</td>\n",
       "      <td>0.538</td>\n",
       "      <td>6.575</td>\n",
       "      <td>65.2</td>\n",
       "      <td>4.0900</td>\n",
       "      <td>1.0</td>\n",
       "      <td>296.0</td>\n",
       "      <td>15.3</td>\n",
       "      <td>396.90</td>\n",
       "      <td>4.98</td>\n",
       "      <td>24.0</td>\n",
       "    </tr>\n",
       "    <tr>\n",
       "      <th>1</th>\n",
       "      <td>0.02731</td>\n",
       "      <td>0.0</td>\n",
       "      <td>7.07</td>\n",
       "      <td>0.0</td>\n",
       "      <td>0.469</td>\n",
       "      <td>6.421</td>\n",
       "      <td>78.9</td>\n",
       "      <td>4.9671</td>\n",
       "      <td>2.0</td>\n",
       "      <td>242.0</td>\n",
       "      <td>17.8</td>\n",
       "      <td>396.90</td>\n",
       "      <td>9.14</td>\n",
       "      <td>21.6</td>\n",
       "    </tr>\n",
       "    <tr>\n",
       "      <th>2</th>\n",
       "      <td>0.02729</td>\n",
       "      <td>0.0</td>\n",
       "      <td>7.07</td>\n",
       "      <td>0.0</td>\n",
       "      <td>0.469</td>\n",
       "      <td>7.185</td>\n",
       "      <td>61.1</td>\n",
       "      <td>4.9671</td>\n",
       "      <td>2.0</td>\n",
       "      <td>242.0</td>\n",
       "      <td>17.8</td>\n",
       "      <td>392.83</td>\n",
       "      <td>4.03</td>\n",
       "      <td>34.7</td>\n",
       "    </tr>\n",
       "    <tr>\n",
       "      <th>3</th>\n",
       "      <td>0.03237</td>\n",
       "      <td>0.0</td>\n",
       "      <td>2.18</td>\n",
       "      <td>0.0</td>\n",
       "      <td>0.458</td>\n",
       "      <td>6.998</td>\n",
       "      <td>45.8</td>\n",
       "      <td>6.0622</td>\n",
       "      <td>3.0</td>\n",
       "      <td>222.0</td>\n",
       "      <td>18.7</td>\n",
       "      <td>394.63</td>\n",
       "      <td>2.94</td>\n",
       "      <td>33.4</td>\n",
       "    </tr>\n",
       "    <tr>\n",
       "      <th>4</th>\n",
       "      <td>0.06905</td>\n",
       "      <td>0.0</td>\n",
       "      <td>2.18</td>\n",
       "      <td>0.0</td>\n",
       "      <td>0.458</td>\n",
       "      <td>7.147</td>\n",
       "      <td>54.2</td>\n",
       "      <td>6.0622</td>\n",
       "      <td>3.0</td>\n",
       "      <td>222.0</td>\n",
       "      <td>18.7</td>\n",
       "      <td>396.90</td>\n",
       "      <td>5.33</td>\n",
       "      <td>36.2</td>\n",
       "    </tr>\n",
       "  </tbody>\n",
       "</table>\n",
       "</div>"
      ],
      "text/plain": [
       "      CRIM    ZN  INDUS  CHAS    NOX     RM   AGE     DIS  RAD    TAX  \\\n",
       "0  0.00632  18.0   2.31   0.0  0.538  6.575  65.2  4.0900  1.0  296.0   \n",
       "1  0.02731   0.0   7.07   0.0  0.469  6.421  78.9  4.9671  2.0  242.0   \n",
       "2  0.02729   0.0   7.07   0.0  0.469  7.185  61.1  4.9671  2.0  242.0   \n",
       "3  0.03237   0.0   2.18   0.0  0.458  6.998  45.8  6.0622  3.0  222.0   \n",
       "4  0.06905   0.0   2.18   0.0  0.458  7.147  54.2  6.0622  3.0  222.0   \n",
       "\n",
       "   PTRATIO       B  LSTAT  PRICE  \n",
       "0     15.3  396.90   4.98   24.0  \n",
       "1     17.8  396.90   9.14   21.6  \n",
       "2     17.8  392.83   4.03   34.7  \n",
       "3     18.7  394.63   2.94   33.4  \n",
       "4     18.7  396.90   5.33   36.2  "
      ]
     },
     "execution_count": 21,
     "metadata": {},
     "output_type": "execute_result"
    }
   ],
   "source": [
    "bos['PRICE'] = boston.target\n",
    "bos.head()"
   ]
  },
  {
   "cell_type": "markdown",
   "metadata": {},
   "source": [
    "Ahora como sabemos cuales deberían ser los precios de cada unas de la vivienda, usaremos un modelo de regresión lineal para predecir lo precios de aquellas viviendas.\n",
    "\n",
    "Usando el método de mínimos de cuadrados"
   ]
  },
  {
   "cell_type": "code",
   "execution_count": 22,
   "metadata": {
    "collapsed": false
   },
   "outputs": [
    {
     "data": {
      "text/plain": [
       "LinearRegression(copy_X=True, fit_intercept=True, n_jobs=1, normalize=False)"
      ]
     },
     "execution_count": 22,
     "metadata": {},
     "output_type": "execute_result"
    }
   ],
   "source": [
    "# Eliminaremos la columna de precios para llevar a cabo la\n",
    "# predicción e importamos desde skelearn.linear_model: \n",
    "# LinearRegression\n",
    "\n",
    "from sklearn.linear_model import LinearRegression\n",
    "X = bos.drop('PRICE',axis=1)\n",
    "\n",
    "# Creamos el objeto LinearRegression\n",
    "lr = LinearRegression()\n",
    "lr"
   ]
  },
  {
   "cell_type": "markdown",
   "metadata": {},
   "source": [
    "Ahora mencionaremos algunas funciones importantes que posee nuestro objeto lr (LinearRegression):\n",
    "\n",
    "* lr.fit(): Se ajusta a un modelo lineal.\n",
    "\n",
    "* lr.predict(): Predice un conjunto usando el modelo lineal y los coeficientes estimados en el entrenamiento.\n",
    "\n",
    "* lr.score(): Devuelve el coeficiente de determinación.\n",
    "\n"
   ]
  },
  {
   "cell_type": "markdown",
   "metadata": {},
   "source": [
    "Entonces realizaremos el ajuste lineal al conjuntos de datos:"
   ]
  },
  {
   "cell_type": "code",
   "execution_count": 28,
   "metadata": {
    "collapsed": false
   },
   "outputs": [
    {
     "data": {
      "text/plain": [
       "LinearRegression(copy_X=True, fit_intercept=True, n_jobs=1, normalize=False)"
      ]
     },
     "execution_count": 28,
     "metadata": {},
     "output_type": "execute_result"
    }
   ],
   "source": [
    "lr.fit(X,bos.PRICE)\n",
    "# Otros dos parámetros se pueden pasar al objeto de regresión\n",
    "# lineal son fit_intercept y normalizar."
   ]
  },
  {
   "cell_type": "code",
   "execution_count": 29,
   "metadata": {
    "collapsed": false
   },
   "outputs": [
    {
     "name": "stdout",
     "output_type": "stream",
     "text": [
      "coeficiente de intercepción estimado  36.4911032804\n"
     ]
    }
   ],
   "source": [
    "print(\"coeficiente de intercepción estimado \",lr.intercept_)"
   ]
  },
  {
   "cell_type": "code",
   "execution_count": 30,
   "metadata": {
    "collapsed": false
   },
   "outputs": [
    {
     "name": "stdout",
     "output_type": "stream",
     "text": [
      "numero de coeficientes  13\n"
     ]
    }
   ],
   "source": [
    "print(\"numero de coeficientes \",len(lr.coef_))"
   ]
  },
  {
   "cell_type": "markdown",
   "metadata": {},
   "source": [
    "Ahora mostraremos los coeficiente calculados en el entrenamientos para cada unos de los atributos."
   ]
  },
  {
   "cell_type": "code",
   "execution_count": 55,
   "metadata": {
    "collapsed": false
   },
   "outputs": [
    {
     "data": {
      "text/html": [
       "<div>\n",
       "<style>\n",
       "    .dataframe thead tr:only-child th {\n",
       "        text-align: right;\n",
       "    }\n",
       "\n",
       "    .dataframe thead th {\n",
       "        text-align: left;\n",
       "    }\n",
       "\n",
       "    .dataframe tbody tr th {\n",
       "        vertical-align: top;\n",
       "    }\n",
       "</style>\n",
       "<table border=\"1\" class=\"dataframe\">\n",
       "  <thead>\n",
       "    <tr style=\"text-align: right;\">\n",
       "      <th></th>\n",
       "      <th>0</th>\n",
       "    </tr>\n",
       "  </thead>\n",
       "  <tbody>\n",
       "    <tr>\n",
       "      <th>-0.107171</th>\n",
       "      <td>CRIM</td>\n",
       "    </tr>\n",
       "    <tr>\n",
       "      <th>0.046395</th>\n",
       "      <td>ZN</td>\n",
       "    </tr>\n",
       "    <tr>\n",
       "      <th>0.020860</th>\n",
       "      <td>INDUS</td>\n",
       "    </tr>\n",
       "    <tr>\n",
       "      <th>2.688561</th>\n",
       "      <td>CHAS</td>\n",
       "    </tr>\n",
       "    <tr>\n",
       "      <th>-17.795759</th>\n",
       "      <td>NOX</td>\n",
       "    </tr>\n",
       "    <tr>\n",
       "      <th>3.804752</th>\n",
       "      <td>RM</td>\n",
       "    </tr>\n",
       "    <tr>\n",
       "      <th>0.000751</th>\n",
       "      <td>AGE</td>\n",
       "    </tr>\n",
       "    <tr>\n",
       "      <th>-1.475759</th>\n",
       "      <td>DIS</td>\n",
       "    </tr>\n",
       "    <tr>\n",
       "      <th>0.305655</th>\n",
       "      <td>RAD</td>\n",
       "    </tr>\n",
       "    <tr>\n",
       "      <th>-0.012329</th>\n",
       "      <td>TAX</td>\n",
       "    </tr>\n",
       "    <tr>\n",
       "      <th>-0.953464</th>\n",
       "      <td>PTRATIO</td>\n",
       "    </tr>\n",
       "    <tr>\n",
       "      <th>0.009393</th>\n",
       "      <td>B</td>\n",
       "    </tr>\n",
       "    <tr>\n",
       "      <th>-0.525467</th>\n",
       "      <td>LSTAT</td>\n",
       "    </tr>\n",
       "  </tbody>\n",
       "</table>\n",
       "</div>"
      ],
      "text/plain": [
       "                  0\n",
       "-0.107171      CRIM\n",
       " 0.046395        ZN\n",
       " 0.020860     INDUS\n",
       " 2.688561      CHAS\n",
       "-17.795759      NOX\n",
       " 3.804752        RM\n",
       " 0.000751       AGE\n",
       "-1.475759       DIS\n",
       " 0.305655       RAD\n",
       "-0.012329       TAX\n",
       "-0.953464   PTRATIO\n",
       " 0.009393         B\n",
       "-0.525467     LSTAT"
      ]
     },
     "execution_count": 55,
     "metadata": {},
     "output_type": "execute_result"
    }
   ],
   "source": [
    "pd.DataFrame(X.columns,lr.coef_)"
   ]
  },
  {
   "cell_type": "markdown",
   "metadata": {},
   "source": [
    "Como se puede ver en el marco de datos que hay una alta correlación entre RM y los precios. Permite trazar un diagrama de dispersión entre los precios de la vivienda y RM."
   ]
  },
  {
   "cell_type": "code",
   "execution_count": 56,
   "metadata": {
    "collapsed": false
   },
   "outputs": [
    {
     "data": {
      "image/png": "[encoded data removed]",
      "text/plain": [
       "<matplotlib.figure.Figure at 0x7f44e1ba8320>"
      ]
     },
     "metadata": {},
     "output_type": "display_data"
    }
   ],
   "source": [
    "plt.scatter(bos.RM,bos.PRICE)\n",
    "plt.xlabel(\"Promedio de numeros de cuartos por vivienda \")\n",
    "plt.ylabel(\"Precio de la Vivienda\")\n",
    "plt.title(\"Relación entre RM y el precio\")\n",
    "plt.show()"
   ]
  },
  {
   "cell_type": "markdown",
   "metadata": {},
   "source": [
    "Ahora realizaremos la predicción de precios using lr.predict"
   ]
  },
  {
   "cell_type": "code",
   "execution_count": 58,
   "metadata": {
    "collapsed": false
   },
   "outputs": [
    {
     "data": {
      "text/plain": [
       "array([ 30.00821269,  25.0298606 ,  30.5702317 ,  28.60814055,  27.94288232])"
      ]
     },
     "execution_count": 58,
     "metadata": {},
     "output_type": "execute_result"
    }
   ],
   "source": [
    "lr.predict(X)[:5]"
   ]
  },
  {
   "cell_type": "code",
   "execution_count": 59,
   "metadata": {
    "collapsed": false
   },
   "outputs": [
    {
     "data": {
      "image/png": "[encoded data removed]",
      "text/plain": [
       "<matplotlib.figure.Figure at 0x7f44e1af1128>"
      ]
     },
     "metadata": {},
     "output_type": "display_data"
    }
   ],
   "source": [
    "plt.scatter(bos.PRICE,lr.predict(X))\n",
    "plt.xlabel(\"Precios: $Y_i$\")\n",
    "plt.ylabel(\"Precios predecidos: $\\hat{Y}_i$\")\n",
    "plt.title(\"Precios vs Precios predecidos:\")\n",
    "plt.show()"
   ]
  },
  {
   "cell_type": "markdown",
   "metadata": {},
   "source": [
    "Ahora podemos calcular el error minimo cuadrado promedio:"
   ]
  },
  {
   "cell_type": "code",
   "execution_count": 60,
   "metadata": {
    "collapsed": false
   },
   "outputs": [
    {
     "name": "stdout",
     "output_type": "stream",
     "text": [
      "21.8977792176875\n"
     ]
    }
   ],
   "source": [
    "mse = np.mean((bos.PRICE-lr.predict(X))**2)\n",
    "print(mse)"
   ]
  }
 ],
 "metadata": {
  "anaconda-cloud": {},
  "kernelspec": {
   "display_name": "Python [default]",
   "language": "python",
   "name": "python3"
  },
  "language_info": {
   "codemirror_mode": {
    "name": "ipython",
    "version": 3
   },
   "file_extension": ".py",
   "mimetype": "text/x-python",
   "name": "python",
   "nbconvert_exporter": "python",
   "pygments_lexer": "ipython3",
   "version": "3.5.2"
  }
 },
 "nbformat": 4,
 "nbformat_minor": 2
}
