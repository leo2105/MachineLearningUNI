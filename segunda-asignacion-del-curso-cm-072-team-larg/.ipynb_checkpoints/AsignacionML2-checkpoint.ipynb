{
 "cells": [
  {
   "cell_type": "markdown",
   "metadata": {},
   "source": [
    "## Asignacion 2\n",
    "\n",
    "Todos los asignaciones serán presentadas utilizando los cuadernos de [Jupyter Notebook](http://jupyter.org/), además de respectivas pruebas como ejemplo, así como el uso de mediciones de velocidad de ejecución utilizando el comando `timeit` y algunos gráficos si fuese necesario."
   ]
  },
  {
   "cell_type": "markdown",
   "metadata": {},
   "source": [
    "### Preguntas\n",
    "\n",
    "1. Presenta un reporte del siguiente artículo [Data Science, Machine Learning, and Statistics: what is in a name?](http://www.win-vector.com/blog/2013/04/data-science-machine-learning-and-statistics-what-is-in-a-name/).\n",
    "\n",
    "2. Revisa el simpático proyecto kickstarter [The Emoji Translation Project :The world needs an emoji translation engine. Help us build it using the power of crowdsourcing. ](https://www.kickstarter.com/projects/fred/the-emoji-translation-project). \n",
    "\n",
    "3. Leer el artículo de Paul Graham [A Plan for Spam](http://www.paulgraham.com/spam.html) y responder las siguientes  preguntas de acuerdo a lo que dice el autor y lo que piensas tu:\n",
    "\n",
    "   - ¿Cuáles son los componentes clave de su sistema de filtrado estadístico? En otras palabras, ¿cómo funciona?.\n",
    "   - Presenta una lista de beneficios del enfoque estadístico.\n",
    "\n",
    "4. Presenta un reporte de tus ideas con ejemplos  del siguiente artículo [Choosing a Machine Learning Classifier](http://blog.echen.me/2011/04/27/choosing-a-machine-learning-classifier/)."
   ]
  },
  {
   "cell_type": "markdown",
   "metadata": {},
   "source": [
    "### Pregunta 1: Data Science, Machine Learning, and Statistics: what is in a name?\n",
    "\n",
    "La frase Data Science es un nuevo termino hoy en dia donde es un buen termino cuando estas trabajando con el manejo de datos. Para algunas personas, Data Science se considera una nueva vocacion y para otros es una tergiversacion caprichosa del trabajo que ya se ha hecho.\n",
    "\n",
    "Vamos a ver que hay diferencias sustanciales entre los diferentes campos siguientes.\n",
    "\n",
    "\n",
    "**La Naturaleza de la estadistica**\n",
    "\n",
    "La estadistica es un campo que trata la data con la mayor portabilidad y rigor posible. Es un campo muy pesimista ya que pueden predecir muy bien lo que puede salir mal con un exprimento y que falacias pueden extraerse de los ingenuos usos de los datos. La estadistica tiene suficientes tecnicas para resolver casi cualquier problema, pero tiene un conservadurismo inherente. En otras palabras, recurre a sus tecnicas tradicionales que les ha funcionado bien.\n",
    "\n",
    "La mejor fuente para un buen trabajo estadistico solo los malos experimentos, en cambio si los experimentos estuvieran hecho perfectamente no habria necesidad de estadistas. Sim embargo, en la vida real la mayoria de experimentos tienen deficiencias importantes y los estadistas son importantes.\n",
    "\n",
    "La estadistica permite sacar conclusiones de una data pequena, ya que los dataset son muy costosos en producir. Por ejemplo, si tu empresa quiere producir una data muy valiosa y veraz, entonces es muy probable que tu data tenga pequenos problemas. Un buen estadista te puede ayudar con esa data pequena de errores.\n",
    "\n",
    "\n",
    "** La Naturaleza del Machine Learning **\n",
    "\n",
    "En cierto sentido, Machine Learning es un campo donde los estadisticos temer pisar; ya que existen algunos problemas con la data como el overfitting pero es un campo optimista.\n",
    "\n",
    "El objetivo del Machine Learning es crear un modelo predictivo que sea indistinguible a un modelo correcto. Esto es algo que ofende a los estadistico ya que ellos no solo quieren un modelo que parece ser correcto sino es correcto.\n",
    "\n",
    "El mejor trabajo para Machine Learning es rehacer el problema de prediccion a un problema de optimizacion. Los buenos papers utilizan buenas tecnicas de optimizacion.\n",
    "\n",
    "\n",
    "** La Naturaleza del Data Mining **\n",
    "\n",
    "Data Mining es un termino hot hoy en dia. Las personas tienden a confunfir data science con data mining.\n",
    "El objetivo de Data Mining es encontrar relaciones en la data, no necesariamente hacer predicciones o dar una explicacion. Entre sus principales aplicaciones estan clustering, deteccion y caracterizacion de anomalias.\n",
    "En el sentido exploratorio de la estadistica es un campo considerado aburrido. Las actuales estadisticas exploratorias son emocionantes y siempre es un paso importante colocar tus manos en la data en cualquier proyecto de analisis predictivo.\n",
    "\n",
    "\n",
    "\n",
    "** La Naturaleza de la Informatica **\n",
    "\n",
    "Muchos de los buenos cientificos de datos provienen del campo de la bioinformatica. Si ponemos de lado la estadistica y la biologia nos queda la infraestructura y los algoritmos de matcheos. Tenemos la creacion y el manejo de data stores, data bases y el diseno eficiente de algoritmos de matcheo y consultas.\n",
    "\n",
    "** La Naturaleza del Big Data **\n",
    "\n",
    "Big Data es un tema muy sonado hoy en dia. Aunque solo es el uso de infraestructura como MapReduce, Hadoop, noSQL, etc. Es la plataforma que lleva a cabo el modelo o usualmente solo generando reportes.\n",
    "\n",
    "\n",
    "** La Naturaleza del analisis predictivo **\n",
    "\n",
    "Segun Wikipedia, esto es definido como la variedad de tecnicas de estadistica, modelamiento, machine learning, y data mining que analiza la actual e historica data para hacer predicciones acerca del futuro, u otros casos desconocidos. Esta definicion es muy cercana a lo que se dice por data science.\n",
    "\n",
    "** La Naturaleza del Data Science **\n",
    "\n",
    "Segun Wikipedia, esto es definido como el campo que incorpora variedad de elementos y construye en tecnicas y teorias desde varios campos, inclutendo matematica, estadistica, ingenieria de datos, reconocimiento de patrones y aprendizaje, etc con el objetivo de extraer informacion de la data y crear productos de datos.\n",
    "Data Science es un termino usado para representar propiedad y la administracion de todo el proceso de modelado."
   ]
  },
  {
   "cell_type": "markdown",
   "metadata": {},
   "source": [
    "### Pregunta 3\n",
    "Leer el artículo de Paul Graham [A Plan for Spam](http://www.paulgraham.com/spam.html) y responder las siguientes  preguntas de acuerdo a lo que dice el autor y lo que piensas tu:\n",
    "\n",
    "#### ¿Cuáles son los componentes clave de su sistema de filtrado estadístico? En otras palabras, ¿cómo funciona?.\n",
    "   \n",
    "Los componentes claves del sistema de filtrado es el uso de Naive Bayes classifier, lo que hace es usar un filtro bayesiano para identificar si un correo es spam o no. Para ello primero se extrae el texto del correo y se almacena las palabras y las ocurrencias de las mismas en una tabla hash, para así asignar una probabilidad de que la palabra en el cuerpo del correo pertenezca a un correo spam. \n",
    "\n",
    "Para ello se calcula la probabilidad de que un correo contenga spam:\n",
    "   \n",
    "```lisp\n",
    "(let ((g (* 2 (or (gethash word good) 0)))\n",
    "  (b (or (gethash word bad) 0)))\n",
    "(unless (< (+ g b) 5)\n",
    " (max .01\n",
    "      (min .99 (float (/ (min 1 (/ b nbad))\n",
    "                         (+ (min 1 (/ g ngood))   \n",
    "                            (min 1 (/ b nbad)))))))))\n",
    "```\n",
    "   \n",
    "La clave detrás del funcionamiento de este filtro es el uso de un artificio que se basa en duplicar todos los numeros good, para sesgar las probabilidades, de esta manera podemos evitar ligeramente los falsos positivos (muy importante). \n",
    "     \n",
    "En caso de que llegue un nuevo correo este es escaneado en tokens y los tokens más comunes se miden para saber que tan probable es que sea un spam desde la probabilidad neutral (0.5) Si la la probabilidad esta en la lista de los tokens más comunes se calcula la probabilidad combinada mediante:\n",
    "```lisp\n",
    "(let ((prod (apply #'* probs)))\n",
    "  (/ prod (+ prod (apply #'* (mapcar #'(lambda (x) \n",
    "                                         (- 1 x))\n",
    "                                     probs)))))\n",
    "```    \n",
    "En caso haya una palabra que nunca se haya visto se le da una probabilidad de 0.4, ya que los correos spam normalmente tienden a usar palabras muy similares.\n",
    "   \n",
    "#### Presenta una lista de beneficios del enfoque estadístico.\n",
    "   \n",
    "Beneficios:\n",
    "\n",
    "- Se evita tener que analizar cada correo spam para crear nuevas reglas de filtro.\n",
    "- Baja probabilidad de obtener falsos positivos ya que no tenemos que forzar las reglas para encontrar spam.\n",
    "- No importa que usuario sea ya que este filtro se entrena de manera personalizada para cada usuario.\n",
    "- No es ambiguo ya que puede diferenciar las probabilidades de las palabras \"sex\" y \"sexy\""
   ]
  },
  {
   "cell_type": "markdown",
   "metadata": {},
   "source": [
    "### Pregunta 4\n",
    "Presenta un reporte de tus ideas con ejemplos  del siguiente artículo [Choosing a Machine Learning Classifier](http://blog.echen.me/2011/04/27/choosing-a-machine-learning-classifier/).\n",
    "\n",
    "En este articulo se habla de qué tipo de algoritmo se debe escoger a la hora de resolver un problema de clasificación donde además se muestran las diferencias entre estos, Para ello se tiene el siguiente ejemplo que clasifica si una persona compra o no un producto basandose en la información del comprador.\n",
    "Para ello se hará uso de los siguientes algoritmos:\n",
    "\n",
    "* **Logistic Regression**: es un tipo de regresión utilizado para predecir salidas de variable categórica. Las ventajas de este algoritmo, es cuando se agrega data al modelo, este se puede actualizar usando el metodo de gradiente descendiente.\n",
    "\n",
    "* **Naive Bayes**: El algoritmo de Naive Bayes Classifier se basa en el teorema de bayes y es especialmente adecuado cuando la dimensionalidad de los imputs es alto. A pesar de su simplicidad, Naive Bayes a menudo puede superar los métodos de clasificación más sofisticados como los de logistic regression.\n",
    "\n",
    "* **Decision Trees**: Es un modelo de predicción basado en árboles, Estos árboles son muy útiles para visualizar las diversas opciones que se tienen y como llegar a ellas,\n",
    "\n",
    "* **SVM**: SVM construye hiperplanos en un espacio que puede ser utilizado en problemas de clasificación o regresión."
   ]
  },
  {
   "cell_type": "code",
   "execution_count": 8,
   "metadata": {
    "collapsed": false
   },
   "outputs": [
    {
     "data": {
      "text/html": [
       "<div>\n",
       "<style>\n",
       "    .dataframe thead tr:only-child th {\n",
       "        text-align: right;\n",
       "    }\n",
       "\n",
       "    .dataframe thead th {\n",
       "        text-align: left;\n",
       "    }\n",
       "\n",
       "    .dataframe tbody tr th {\n",
       "        vertical-align: top;\n",
       "    }\n",
       "</style>\n",
       "<table border=\"1\" class=\"dataframe\">\n",
       "  <thead>\n",
       "    <tr style=\"text-align: right;\">\n",
       "      <th></th>\n",
       "      <th>User ID</th>\n",
       "      <th>Gender</th>\n",
       "      <th>Age</th>\n",
       "      <th>EstimatedSalary</th>\n",
       "      <th>Purchased</th>\n",
       "    </tr>\n",
       "  </thead>\n",
       "  <tbody>\n",
       "    <tr>\n",
       "      <th>0</th>\n",
       "      <td>15624510</td>\n",
       "      <td>Male</td>\n",
       "      <td>19</td>\n",
       "      <td>19000</td>\n",
       "      <td>0</td>\n",
       "    </tr>\n",
       "    <tr>\n",
       "      <th>1</th>\n",
       "      <td>15810944</td>\n",
       "      <td>Male</td>\n",
       "      <td>35</td>\n",
       "      <td>20000</td>\n",
       "      <td>0</td>\n",
       "    </tr>\n",
       "    <tr>\n",
       "      <th>2</th>\n",
       "      <td>15668575</td>\n",
       "      <td>Female</td>\n",
       "      <td>26</td>\n",
       "      <td>43000</td>\n",
       "      <td>0</td>\n",
       "    </tr>\n",
       "    <tr>\n",
       "      <th>3</th>\n",
       "      <td>15603246</td>\n",
       "      <td>Female</td>\n",
       "      <td>27</td>\n",
       "      <td>57000</td>\n",
       "      <td>0</td>\n",
       "    </tr>\n",
       "    <tr>\n",
       "      <th>4</th>\n",
       "      <td>15804002</td>\n",
       "      <td>Male</td>\n",
       "      <td>19</td>\n",
       "      <td>76000</td>\n",
       "      <td>0</td>\n",
       "    </tr>\n",
       "  </tbody>\n",
       "</table>\n",
       "</div>"
      ],
      "text/plain": [
       "    User ID  Gender  Age  EstimatedSalary  Purchased\n",
       "0  15624510    Male   19            19000          0\n",
       "1  15810944    Male   35            20000          0\n",
       "2  15668575  Female   26            43000          0\n",
       "3  15603246  Female   27            57000          0\n",
       "4  15804002    Male   19            76000          0"
      ]
     },
     "execution_count": 8,
     "metadata": {},
     "output_type": "execute_result"
    }
   ],
   "source": [
    "# Importing the libraries\n",
    "import numpy as np\n",
    "import matplotlib.pyplot as plt\n",
    "import pandas as pd\n",
    "%matplotlib inline\n",
    "plt.rcParams['figure.figsize'] = (12, 10)\n",
    "\n",
    "# Importing the dataset\n",
    "dataset = pd.read_csv('Social_Network_Ads.csv')\n",
    "dataset.head()"
   ]
  },
  {
   "cell_type": "code",
   "execution_count": 6,
   "metadata": {
    "collapsed": false
   },
   "outputs": [
    {
     "name": "stderr",
     "output_type": "stream",
     "text": [
      "/home/gerson/anaconda3/lib/python3.6/site-packages/sklearn/utils/validation.py:429: DataConversionWarning: Data with input dtype int64 was converted to float64 by StandardScaler.\n",
      "  warnings.warn(msg, _DataConversionWarning)\n"
     ]
    },
    {
     "data": {
      "image/png": "[encoded data removed]",
      "text/plain": [
       "<matplotlib.figure.Figure at 0x7fcae7cb9400>"
      ]
     },
     "metadata": {},
     "output_type": "display_data"
    }
   ],
   "source": [
    "X = dataset.iloc[:, [2, 3]].values\n",
    "y = dataset.iloc[:, 4].values\n",
    "\n",
    "# Splitting the dataset into the Training set and Test set\n",
    "from sklearn.cross_validation import train_test_split\n",
    "X_train, X_test, y_train, y_test = train_test_split(X, y, test_size = 0.25, random_state = 0)\n",
    "\n",
    "# Feature Scaling\n",
    "from sklearn.preprocessing import StandardScaler\n",
    "sc = StandardScaler()\n",
    "X_train = sc.fit_transform(X_train)\n",
    "X_test = sc.transform(X_test)\n",
    "\n",
    "###################################################################################################\n",
    "# Fitting Logistic Regression to the Training set\n",
    "from sklearn.linear_model import LogisticRegression\n",
    "classifier = LogisticRegression(random_state = 0)\n",
    "classifier.fit(X_train, y_train)\n",
    "\n",
    "# Predicting the Test set results\n",
    "y_pred = classifier.predict(X_test)\n",
    "\n",
    "# Making the Confusion Matrix\n",
    "from sklearn.metrics import confusion_matrix\n",
    "cm = confusion_matrix(y_test, y_pred)\n",
    "\n",
    "# Visualising the Training set results\n",
    "from matplotlib.colors import ListedColormap\n",
    "X_set, y_set = X_train, y_train\n",
    "X1, X2 = np.meshgrid(np.arange(start = X_set[:, 0].min() - 1, stop = X_set[:, 0].max() + 1, step = 0.01),\n",
    "                     np.arange(start = X_set[:, 1].min() - 1, stop = X_set[:, 1].max() + 1, step = 0.01))\n",
    "\n",
    "plt.subplot(221)\n",
    "plt.contourf(X1, X2, classifier.predict(np.array([X1.ravel(), X2.ravel()]).T).reshape(X1.shape),\n",
    "             alpha = 0.75, cmap = ListedColormap(('red', 'green')))\n",
    "plt.xlim(X1.min(), X1.max())\n",
    "plt.ylim(X2.min(), X2.max())\n",
    "for i, j in enumerate(np.unique(y_set)):\n",
    "    plt.scatter(X_set[y_set == j, 0], X_set[y_set == j, 1],\n",
    "                c = ListedColormap(('red', 'green'))(i), label = j)\n",
    "plt.title('Logistic Regression (Training set)')\n",
    "plt.xlabel('Age')\n",
    "plt.ylabel('Estimated Salary')\n",
    "plt.legend()\n",
    "\n",
    "###################################################################################################\n",
    "\n",
    "# Fitting Decision Tree Classification to the Training set\n",
    "from sklearn.tree import DecisionTreeClassifier\n",
    "classifier = DecisionTreeClassifier(criterion = 'entropy', random_state = 0)\n",
    "classifier.fit(X_train, y_train)\n",
    "\n",
    "# Predicting the Test set results\n",
    "y_pred = classifier.predict(X_test)\n",
    "\n",
    "# Making the Confusion Matrix\n",
    "from sklearn.metrics import confusion_matrix\n",
    "cm = confusion_matrix(y_test, y_pred)\n",
    "\n",
    "# Visualising the Training set results\n",
    "from matplotlib.colors import ListedColormap\n",
    "X_set, y_set = X_train, y_train\n",
    "X1, X2 = np.meshgrid(np.arange(start = X_set[:, 0].min() - 1, stop = X_set[:, 0].max() + 1, step = 0.01),\n",
    "                     np.arange(start = X_set[:, 1].min() - 1, stop = X_set[:, 1].max() + 1, step = 0.01))\n",
    "\n",
    "plt.subplot(222)\n",
    "plt.contourf(X1, X2, classifier.predict(np.array([X1.ravel(), X2.ravel()]).T).reshape(X1.shape),\n",
    "             alpha = 0.75, cmap = ListedColormap(('red', 'green')))\n",
    "plt.xlim(X1.min(), X1.max())\n",
    "plt.ylim(X2.min(), X2.max())\n",
    "for i, j in enumerate(np.unique(y_set)):\n",
    "    plt.scatter(X_set[y_set == j, 0], X_set[y_set == j, 1],\n",
    "                c = ListedColormap(('red', 'green'))(i), label = j)\n",
    "plt.title('Decision Tree Classification (Training set)')\n",
    "plt.xlabel('Age')\n",
    "plt.ylabel('Estimated Salary')\n",
    "plt.legend()\n",
    "\n",
    "###################################################################################################\n",
    "# Fitting SVM to the Training set\n",
    "from sklearn.svm import SVC\n",
    "classifier = SVC(kernel = 'linear', random_state = 0)\n",
    "classifier.fit(X_train, y_train)\n",
    "\n",
    "# Predicting the Test set results\n",
    "y_pred = classifier.predict(X_test)\n",
    "\n",
    "# Making the Confusion Matrix\n",
    "from sklearn.metrics import confusion_matrix\n",
    "cm = confusion_matrix(y_test, y_pred)\n",
    "\n",
    "# Visualising the Training set results\n",
    "from matplotlib.colors import ListedColormap\n",
    "X_set, y_set = X_train, y_train\n",
    "X1, X2 = np.meshgrid(np.arange(start = X_set[:, 0].min() - 1, stop = X_set[:, 0].max() + 1, step = 0.01),\n",
    "                     np.arange(start = X_set[:, 1].min() - 1, stop = X_set[:, 1].max() + 1, step = 0.01))\n",
    "\n",
    "plt.subplot(223)\n",
    "plt.contourf(X1, X2, classifier.predict(np.array([X1.ravel(), X2.ravel()]).T).reshape(X1.shape),\n",
    "             alpha = 0.75, cmap = ListedColormap(('red', 'green')))\n",
    "plt.xlim(X1.min(), X1.max())\n",
    "plt.ylim(X2.min(), X2.max())\n",
    "for i, j in enumerate(np.unique(y_set)):\n",
    "    plt.scatter(X_set[y_set == j, 0], X_set[y_set == j, 1],\n",
    "                c = ListedColormap(('red', 'green'))(i), label = j)\n",
    "plt.title('SVM (Training set)')\n",
    "plt.xlabel('Age')\n",
    "plt.ylabel('Estimated Salary')\n",
    "plt.legend()\n",
    "\n",
    "###################################################################################################\n",
    "# Fitting Naive Bayes to the Training set\n",
    "from sklearn.naive_bayes import GaussianNB\n",
    "classifier = GaussianNB()\n",
    "classifier.fit(X_train, y_train)\n",
    "\n",
    "# Predicting the Test set results\n",
    "y_pred = classifier.predict(X_test)\n",
    "\n",
    "# Making the Confusion Matrix\n",
    "from sklearn.metrics import confusion_matrix\n",
    "cm = confusion_matrix(y_test, y_pred)\n",
    "\n",
    "# Visualising the Training set results\n",
    "from matplotlib.colors import ListedColormap\n",
    "X_set, y_set = X_train, y_train\n",
    "X1, X2 = np.meshgrid(np.arange(start = X_set[:, 0].min() - 1, stop = X_set[:, 0].max() + 1, step = 0.01),\n",
    "                     np.arange(start = X_set[:, 1].min() - 1, stop = X_set[:, 1].max() + 1, step = 0.01))\n",
    "\n",
    "plt.subplot(224)\n",
    "plt.contourf(X1, X2, classifier.predict(np.array([X1.ravel(), X2.ravel()]).T).reshape(X1.shape),\n",
    "             alpha = 0.75, cmap = ListedColormap(('red', 'green')))\n",
    "plt.xlim(X1.min(), X1.max())\n",
    "plt.ylim(X2.min(), X2.max())\n",
    "for i, j in enumerate(np.unique(y_set)):\n",
    "    plt.scatter(X_set[y_set == j, 0], X_set[y_set == j, 1],\n",
    "                c = ListedColormap(('red', 'green'))(i), label = j)\n",
    "plt.title('Naive Bayes (Training set)')\n",
    "plt.xlabel('Age')\n",
    "plt.ylabel('Estimated Salary')\n",
    "plt.legend()\n",
    "\n",
    "\n",
    "plt.tight_layout()\n",
    "plt.show()\n",
    "\n",
    "###################################################################################################"
   ]
  },
  {
   "cell_type": "markdown",
   "metadata": {},
   "source": [
    "### Acá podemos observar los pro y cons de algunos algoritmos de clasificación"
   ]
  },
  {
   "cell_type": "markdown",
   "metadata": {},
   "source": [
    "![Porque usar Python](why.png \"Optional title\")"
   ]
  },
  {
   "cell_type": "markdown",
   "metadata": {},
   "source": [
    "## Lista de ejercicios\n",
    "\n",
    "Las referencias a los ejercicios son :\n",
    "\n",
    "   * Asignaciones de Andrew Ng de Stanford University y cursos en Coursera.\n",
    "   * David Barber, [Bayesian Reasoning and Machine Learning](http://web4.cs.ucl.ac.uk/staff/D.Barber/pmwiki/pmwiki.php?n=Brml.Online), Cambridge University Press, 2017.\n",
    "   * Pattern Recognition and Machine Learning de Chris Bishop 2006.\n",
    "   * Machine Learning Refined, Watt, Borhani, Katsaggelos 2016.\n"
   ]
  },
  {
   "cell_type": "markdown",
   "metadata": {},
   "source": [
    "1 . Este conjunto de problemas implica la implementación de varias variantes del algoritmo Perceptron. Antes de poder construir estos modelos y medir su rendimiento, divide tus datos de entrenamiento (es decir, `entrenamiento_spam.txt`) en un conjunto de entrenamiento y validación, poniendo los últimos 1000 correos electrónicos en el conjunto de validación. Por lo tanto, tendrá un nuevo conjunto de entrenamiento con 4000 correos electrónicos y un conjunto de validación con 1000 correos electrónicos. \n",
    "\n",
    "Explica por qué medir el rendimiento de su clasificador final sería problemático si no hubiera creado este conjunto de validación."
   ]
  },
  {
   "cell_type": "markdown",
   "metadata": {
    "collapsed": true
   },
   "source": [
    "### Tu respuesta\n",
    "\n",
    "Cuando se realiza modelos predictivos hay 3 conjuntos de datos fundamentales que se debe de manejar:\n",
    "\n",
    "* Datos Entrenamiento: datos con los que se entrenan los modelos.\n",
    "* Datos de Validación: selecciona el mejor de los modelos entrenados.\n",
    "* Datos de Prueba: entrega el error real cometido con el modelo seleccionado.\n",
    "\n",
    "Cuando se analiza grandes cantidades de datos, podemos subdividir los datos en tres conjuntos. Durante el proceso de selección del mejor modelo, los modelos se ajustan a los datos de entrenamiento y el error de predicción para dichos modelos es obtenido mediante el uso de los datos de validación. Este error de predicción en los datos de validación se puede utilizar para decidir cuándo dar por terminado el proceso de selección o para decidir cuáles son los efectos a incluir a medida que avanza el proceso. Finalmente, una vez que termina el proceso y se tiene seleccionado el modelo, se pueden utilizar los datos de prueba para evaluar la manera en que el modelo seleccionado se generaliza para los datos que no jugaron ningún papel en la selección del mismo.\n",
    "\n",
    "Como vemos los datos son muy necesarios para seleccionar al mejor modelo que se ajusta a los datos, si solo se tuviera los datos de entrenamiento no sabríamos si el entrenamiento fue útil o no, sin embargo también se necesitaría de los datos de prueba para verificar sus resultados.\n",
    "\n",
    "Alguna veces se toma en consideración lo siguiente:\n",
    "\n",
    "![](ima/pre1.png)"
   ]
  },
  {
   "cell_type": "code",
   "execution_count": 1,
   "metadata": {
    "collapsed": false
   },
   "outputs": [
    {
     "data": {
      "text/plain": [
       "4000"
      ]
     },
     "execution_count": 1,
     "metadata": {},
     "output_type": "execute_result"
    }
   ],
   "source": [
    "data = open(\"entrenamiento_spam.txt\",\"r\")\n",
    "trainee = [data.readline() for i in range(4000)]\n",
    "# [2:-1] para evitar las '1' o '0' y el caracter salto linea.\n",
    "trainee_x = [correo[2:-1] for correo in trainee]\n",
    "trainee_y = [correo[0] for correo in trainee]\n",
    "len(trainee_y)"
   ]
  },
  {
   "cell_type": "code",
   "execution_count": 2,
   "metadata": {
    "collapsed": false
   },
   "outputs": [
    {
     "data": {
      "text/plain": [
       "1000"
      ]
     },
     "execution_count": 2,
     "metadata": {},
     "output_type": "execute_result"
    }
   ],
   "source": [
    "valid = [data.readline() for i in range(1000)]\n",
    "# [2:-1] para evitar las '1' o '0' y el caracter salto linea.\n",
    "valid_x = [correo[2:-1] for correo in valid]\n",
    "valid_y = [correo[0] for correo in valid]\n",
    "len(valid_y)"
   ]
  },
  {
   "cell_type": "markdown",
   "metadata": {},
   "source": [
    "2 . Transforme todos los datos en vectores de características. Construya una lista de vocabulario usando solamente el conjunto de entrenamiento de 4000 correos electrónicos encontrando todas las palabras que aparecen en el conjunto de entrenamiento.\n",
    "\n",
    "Ten en cuenta que suponemos que los datos de los conjuntos de validación y prueba no se ven completamente cuando entrenamos nuestro modelo y, por lo tanto, no utilizamos ninguna información contenida en ellos. \n",
    "\n",
    "Ignora todas las palabras que aparecen en menos de X = 30 correos electrónicos del conjunto de 4000 mensajes de correo electrónico, esto es tanto un medio de prevenir el ajuste excesivo y de mejorar la escalabilidad. Para cada correo electrónico, transformarlo en un vector de características $\\mathbf{x}$ donde la i-ésima entrada, $x_i$, es 1 si la i-ésima palabra del vocabulario aparece en el correo electrónico y 0 en caso contrario."
   ]
  },
  {
   "cell_type": "code",
   "execution_count": 3,
   "metadata": {
    "collapsed": true
   },
   "outputs": [],
   "source": [
    "# Tu respuesta\n",
    "# Cada contenido de trainee es un correo \n",
    "a = [] # se guardan palabra por palabra\n",
    "for i in range(4000):\n",
    "    a = a + trainee_x[i].split(\" \")"
   ]
  },
  {
   "cell_type": "code",
   "execution_count": 4,
   "metadata": {
    "collapsed": false
   },
   "outputs": [
    {
     "name": "stdout",
     "output_type": "stream",
     "text": [
      "55232\n"
     ]
    }
   ],
   "source": [
    "import collections\n",
    "l = collections.Counter(a)\n",
    "# se encontraron \n",
    "print(len(l))"
   ]
  },
  {
   "cell_type": "code",
   "execution_count": 5,
   "metadata": {
    "collapsed": false
   },
   "outputs": [
    {
     "data": {
      "text/plain": [
       "3189"
      ]
     },
     "execution_count": 5,
     "metadata": {},
     "output_type": "execute_result"
    }
   ],
   "source": [
    "d = []\n",
    "for clave, valor in l.items():\n",
    "    if valor>30:\n",
    "        d.append(clave)\n",
    "len(d) # 3189 palabras que aparecen más de 30 veces"
   ]
  },
  {
   "cell_type": "code",
   "execution_count": 6,
   "metadata": {
    "collapsed": true
   },
   "outputs": [],
   "source": [
    "# vector caracteristica del entrenamiento\n",
    "vect_caracT = []\n",
    "for i in range(4000):\n",
    "    aux = []\n",
    "    for j in range(len(d)):\n",
    "        if d[j] in trainee[i]:\n",
    "            aux.append(1)\n",
    "        else:\n",
    "            aux.append(0)\n",
    "    vect_caracT.append(aux)"
   ]
  },
  {
   "cell_type": "code",
   "execution_count": 7,
   "metadata": {
    "collapsed": false
   },
   "outputs": [
    {
     "data": {
      "text/plain": [
       "3189"
      ]
     },
     "execution_count": 7,
     "metadata": {},
     "output_type": "execute_result"
    }
   ],
   "source": [
    "len(vect_caracT[0])"
   ]
  },
  {
   "cell_type": "code",
   "execution_count": 8,
   "metadata": {
    "collapsed": true
   },
   "outputs": [],
   "source": [
    "# vector caracteristica de la validacion\n",
    "vect_caracV = []\n",
    "for i in range(1000):\n",
    "    aux = []\n",
    "    for j in range(len(d)):\n",
    "        if d[j] in valid[i]:\n",
    "            aux.append(1)\n",
    "        else:\n",
    "            aux.append(0)\n",
    "    vect_caracV.append(aux)"
   ]
  },
  {
   "cell_type": "code",
   "execution_count": 9,
   "metadata": {
    "collapsed": false
   },
   "outputs": [
    {
     "data": {
      "text/plain": [
       "3189"
      ]
     },
     "execution_count": 9,
     "metadata": {},
     "output_type": "execute_result"
    }
   ],
   "source": [
    "len(vect_caracV[0])"
   ]
  },
  {
   "cell_type": "markdown",
   "metadata": {},
   "source": [
    "3 .Implementar las funciones **entrenamiento_perceptron(datos)** y **prueba_perceptron(w, datos)**.\n",
    "\n",
    "La función `entrenamiento_perceptron(datos)` entrena un clasificador perceptron usando los ejemplos proporcionados a la función, y devuelve:\n",
    "\n",
    "* `w`, el vector de clasificación final\n",
    "* `k`, el número de actualizaciones (errores) realizados\n",
    "* `itera`, el número de pasadas los datos, respectivamente. \n",
    "\n",
    "Se puede  suponer que los datos de entrada proporcionados a la función son linealmente separables (por lo que el criterio de parada debe ser que todos los puntos estén clasificados correctamente).\n",
    "\n",
    "Para el caso  `w·x = 0`, predecir la clase +1 (spam). Para este ejercicio, no es necesario agregar una función de sesgo al vector de características \n",
    "\n",
    "La función `prueba_perceptron(w, datos)` debe tomar como entrada el vector de peso `w`  (el vector de clasificación a utilizar) y un conjunto de ejemplos. La función debe devolver el error de prueba, es decir, la fracción de ejemplos que son mal clasificados por w."
   ]
  },
  {
   "cell_type": "code",
   "execution_count": 13,
   "metadata": {
    "collapsed": true
   },
   "outputs": [],
   "source": [
    "# Definir variables\n",
    "\n",
    "def product(x, w):\n",
    "    sum = 0\n",
    "    for a, b in zip(x, w):\n",
    "        sum += (a * b)\n",
    "    return sum\n",
    "\n",
    "def entrenamiento_perceptron(X, Y, w):\n",
    "    d = 0;k = 0;itera = 0\n",
    "    #for _ in range(10):\n",
    "    while True:\n",
    "        itera+=1 # nos da la cantidad de iteraciones\n",
    "        band = 0 # nos avisa que al red ya aprendió\n",
    "        for x, y in zip(X, Y):\n",
    "            rpta = 1 if product(x, w) == 0 else 0\n",
    "            #rpta=1 if yi==1 else 0\n",
    "            d = int(y) - rpta\n",
    "            if d != 0: # ocurre un error\n",
    "                band = 1\n",
    "                k+=1 # se cuenta errores\n",
    "                for i in range(len(w)):\n",
    "                    w[i] = w[i] + 0.1 * d * x[i]\n",
    "        if band==0: # no ocurre errorres-termina\n",
    "            break\n",
    "    return (w, k, itera)\n",
    "    \n",
    "def prueba_perceptron(X,Y,w):\n",
    "    error=0\n",
    "    for x, y in zip(X, Y):\n",
    "        rpta = 1 if product(x, w) == 0 else 0\n",
    "        #rpta=1 if yi==1 else 0\n",
    "        d = int(y) - rpta\n",
    "        if d!=0: # si ocurre un error\n",
    "            error+=1\n",
    "    return 100.0*(error/1000.0)"
   ]
  },
  {
   "cell_type": "code",
   "execution_count": 14,
   "metadata": {
    "collapsed": false
   },
   "outputs": [
    {
     "name": "stdout",
     "output_type": "stream",
     "text": [
      "El peso es: [ -3.00000000e-01  -1.00000000e-01  -2.77555756e-17 ...,  -1.00000000e-01\n",
      "   2.00000000e-01   0.00000000e+00]\n",
      "Se actualizo 677 veces.\n",
      "Se itero: 17 veces.\n"
     ]
    }
   ],
   "source": [
    "import numpy as np\n",
    "\n",
    "\n",
    "n = len(vect_caracT[0]) # 3189, tamano del vector w\n",
    "w = np.zeros(n)\n",
    "\n",
    "w, k, itera = entrenamiento_perceptron(vect_caracT, trainee_y, w)\n",
    "\n",
    "print(\"El peso es: \" + str(w))\n",
    "print(\"Se actualizo \" + str(k) + \" veces.\")\n",
    "print(\"Se itero: \" + str(itera) + \" veces.\")\n"
   ]
  },
  {
   "cell_type": "markdown",
   "metadata": {},
   "source": [
    "4 .Entrene el clasificador lineal usando su conjunto de entrenamiento. ¿Cuántos errores se cometen antes de que termine el algoritmo? Prueba tu implementación `prueba_perceptron` con  los parámetros aprendidos y los datos de entrenamiento, asegurándose de que el error de entrenamiento es cero. A continuación, clasifique los correos electrónicos en su conjunto de validación. ¿Qué es el error de validación?"
   ]
  },
  {
   "cell_type": "code",
   "execution_count": 15,
   "metadata": {
    "collapsed": false
   },
   "outputs": [
    {
     "name": "stdout",
     "output_type": "stream",
     "text": [
      "La cantidad de errores son: 31.5\n"
     ]
    }
   ],
   "source": [
    "# Tu respuesta\n",
    "e = prueba_perceptron(vect_caracT, valid_y, w)\n",
    "print(\"La cantidad de errores son: \"+ str(e))"
   ]
  },
  {
   "cell_type": "markdown",
   "metadata": {},
   "source": [
    "5 .Para entender mejor cómo funciona este clasificador de spam, podemos inspeccionar los parámetros para ver qué palabras cree que el clasificador es la más predictiva a spam. Usando la lista de vocabulario junto con los parámetros aprendidos en la pregunta anterior, muestra las 15 palabras con los pesos más positivos. ¿Cuáles son las  15 palabras que tienen los pesos más negativos?.\n"
   ]
  },
  {
   "cell_type": "code",
   "execution_count": 10,
   "metadata": {
    "collapsed": false
   },
   "outputs": [
    {
     "data": {
      "text/plain": [
       "[('number', 70311),\n",
       " ('the', 44765),\n",
       " ('to', 31655),\n",
       " ('and', 23289),\n",
       " ('a', 22075),\n",
       " ('of', 21639),\n",
       " ('in', 15046),\n",
       " ('you', 14559),\n",
       " ('is', 13291),\n",
       " ('for', 12819),\n",
       " ('i', 12551),\n",
       " ('it', 12103),\n",
       " ('nbsp', 12089),\n",
       " ('on', 11683),\n",
       " ('httpaddr', 11260)]"
      ]
     },
     "execution_count": 10,
     "metadata": {},
     "output_type": "execute_result"
    }
   ],
   "source": [
    "# Tu respuesta\n",
    "l.most_common(15)"
   ]
  },
  {
   "cell_type": "markdown",
   "metadata": {},
   "source": [
    "6 . Implementar el algoritmo de perceptron promedio, que es el mismo que tu implementación actual, pero que, en lugar de devolver el vector de peso final, devuelve el promedio de todos los vectores de peso considerados durante el algoritmo (incluyendo ejemplos donde no se cometió ningún error). El promedio reduce la varianza entre los diferentes vectores, y es un poderoso medio para evitar que el algoritmo de aprendizaje sea sobrefijado (sirviendo como un tipo de regularización)."
   ]
  },
  {
   "cell_type": "code",
   "execution_count": null,
   "metadata": {
    "collapsed": true
   },
   "outputs": [],
   "source": [
    "# Tu respuesta"
   ]
  },
  {
   "cell_type": "markdown",
   "metadata": {},
   "source": [
    "7 .Uno debe esperar que el error de prueba disminuye a medida que aumenta la cantidad de datos de entrenamiento. Usando sólo las primeras N filas de tus datos de entrenamiento, ejecute tanto el algoritmo del perceptron como el  algoritmo de perceptron promedio en este conjunto de entrenamiento  y evalúe el error de validación correspondiente (usando todos los datos de validación). Hacer esto para N = 100, 200, 400, 800, 2000, 4000 y crear un gráfico del error de validación de ambos algoritmos como una función de N."
   ]
  },
  {
   "cell_type": "code",
   "execution_count": null,
   "metadata": {
    "collapsed": true
   },
   "outputs": [],
   "source": [
    "# Tu respuesta"
   ]
  },
  {
   "cell_type": "markdown",
   "metadata": {},
   "source": [
    "8 . También para N = 100, 200, 400, 800, 2000, 4000, crea un diagrama del número de iteraciones para el perceptrón como una función de N, donde por iteración nos referimos a un paso completo a través de los datos de entrenamiento. A medida que aumenta la cantidad de datos de entrenamiento, el margen del conjunto de entrenamiento disminuye, lo que generalmente conduce a un aumento en el número de iteraciones que el perceptron toma para converger.\n"
   ]
  },
  {
   "cell_type": "code",
   "execution_count": null,
   "metadata": {
    "collapsed": true
   },
   "outputs": [],
   "source": [
    "# Tu respuesta"
   ]
  },
  {
   "cell_type": "markdown",
   "metadata": {},
   "source": [
    "9 . Prueba varias configuraciones de los algoritmos usando todos los 4000 datos de entrenamiento y encuentra una buena configuración con un error pequeño en su conjunto de validación. En particular, trata de cambiar la elección del algoritmo perceptron y el número máximo de iteraciones. \n",
    "\n",
    "Reporta el error de validación para varias de las configuraciones, qué configuración funciona mejor?\n",
    "\n",
    "Combina el conjunto de entrenamiento y el conjunto de validación (es decir, utiliza `entrenamiento_spam.txt`) y aprenda usando la mejor de las configuraciones encontradas anteriormente.\n",
    "\n",
    "¿Cuál es el error en el conjunto de pruebas, es decir, en  `prueba_spam.txt`?"
   ]
  },
  {
   "cell_type": "code",
   "execution_count": null,
   "metadata": {
    "collapsed": true
   },
   "outputs": [],
   "source": [
    "# Tu respuesta"
   ]
  }
 ],
 "metadata": {
  "anaconda-cloud": {},
  "kernelspec": {
   "display_name": "Python [default]",
   "language": "python",
   "name": "python3"
  },
  "language_info": {
   "codemirror_mode": {
    "name": "ipython",
    "version": 3
   },
   "file_extension": ".py",
   "mimetype": "text/x-python",
   "name": "python",
   "nbconvert_exporter": "python",
   "pygments_lexer": "ipython3",
   "version": "3.5.2"
  }
 },
 "nbformat": 4,
 "nbformat_minor": 2
}
